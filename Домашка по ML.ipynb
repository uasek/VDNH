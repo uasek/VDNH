{
  "nbformat": 4,
  "nbformat_minor": 0,
  "metadata": {
    "kernelspec": {
      "display_name": "Python 3",
      "language": "python",
      "name": "python3"
    },
    "language_info": {
      "codemirror_mode": {
        "name": "ipython",
        "version": 3
      },
      "file_extension": ".py",
      "mimetype": "text/x-python",
      "name": "python",
      "nbconvert_exporter": "python",
      "pygments_lexer": "ipython3",
      "version": "3.7.6"
    },
    "colab": {
      "name": "homework-practice-08-random-features-BaranovMikhail.ipynb",
      "provenance": [],
      "collapsed_sections": []
    }
  },
  "cells": [
    {
      "cell_type": "markdown",
      "metadata": {
        "id": "0zcbE5-vBI-K"
      },
      "source": [
        "Домашнее задание по ML. Во всех содержательных ячейках код мой."
      ]
    },
    {
      "cell_type": "markdown",
      "metadata": {
        "id": "RYp0bXOFK-hP"
      },
      "source": [
        "# Машинное обучение, ФКН ВШЭ\n",
        "\n",
        "## Практическое задание 8. Метод опорных векторов и аппроксимация ядер\n",
        "\n",
        "### Общая информация\n",
        "Дата выдачи: 05.02.2021\n",
        "\n",
        "Мягкий дедлайн: 01:59MSK 21.02.2021\n",
        "\n",
        "Жесткий дедлайн: 01:59MSK 24.02.2021\n",
        "\n",
        "### Оценивание и штрафы\n",
        "Каждая из задач имеет определенную «стоимость» (указана в скобках около задачи). Максимальная оценка за работу (без учёта бонусов) — 10 баллов.\n",
        "\n",
        "Сдавать задание после указанного жёсткого срока сдачи нельзя. При выставлении неполного балла за задание в связи с наличием ошибок на усмотрение проверяющего предусмотрена возможность исправить работу на указанных в ответном письме условиях.\n",
        "\n",
        "Задание выполняется самостоятельно. «Похожие» решения считаются плагиатом и все задействованные студенты (в том числе те, у кого списали) не могут получить за него больше 0 баллов (подробнее о плагиате см. на странице курса). Если вы нашли решение какого-то из заданий (или его часть) в открытом источнике, необходимо указать ссылку на этот источник в отдельном блоке в конце вашей работы (скорее всего вы будете не единственным, кто это нашел, поэтому чтобы исключить подозрение в плагиате, необходима ссылка на источник).\n",
        "\n",
        "Неэффективная реализация кода может негативно отразиться на оценке.\n",
        "\n",
        "### Формат сдачи\n",
        "Задания сдаются через систему anytask. Посылка должна содержать:\n",
        "* Ноутбук homework-practice-08-random-features-Username.ipynb\n",
        "\n",
        "Username — ваша фамилия и имя на латинице именно в таком порядке"
      ]
    },
    {
      "cell_type": "markdown",
      "metadata": {
        "id": "vY8vT0W_K-hR"
      },
      "source": [
        "### О задании\n",
        "\n",
        "На занятиях мы подробно обсуждали метод опорных векторов (SVM). В базовой версии в нём нет чего-то особенного — мы всего лишь используем специальную функцию потерь, которая не требует устремлять отступы к бесконечности; ей достаточно, чтобы отступы были не меньше +1. Затем мы узнали, что SVM можно переписать в двойственном виде, который, позволяет заменить скалярные произведения объектов на ядра. Это будет соответствовать построению модели в новом пространстве более высокой размерности, координаты которого представляют собой нелинейные модификации исходных признаков.\n",
        "\n",
        "Ядровой SVM, к сожалению, довольно затратен по памяти (нужно хранить матрицу Грама размера $d \\times d$) и по времени (нужно решать задачу условной оптимизации с квадратичной функцией, а это не очень быстро). Мы обсуждали, что есть способы посчитать новые признаки $\\tilde \\varphi(x)$ на основе исходных так, что скалярные произведения этих новых $\\langle \\tilde \\varphi(x), \\tilde \\varphi(z) \\rangle$ приближают ядро $K(x, z)$.\n",
        "\n",
        "Мы будем исследовать аппроксимации методом Random Fourier Features (RFF, также в литературе встречается название Random Kitchen Sinks) для гауссовых ядер. Будем использовать формулы, которые немного отличаются от того, что было на лекциях (мы добавим сдвиги внутрь тригонометрических функций и будем использовать только косинусы, потому что с нужным сдвигом косинус превратится в синус):\n",
        "$$\\tilde \\varphi(x) = (\n",
        "\\cos (w_1^T x + b_1),\n",
        "\\dots,\n",
        "\\cos (w_n^T x + b_n)\n",
        "),$$\n",
        "где $w_j \\sim \\mathcal{N}(0, 1/\\sigma^2)$, $b_j \\sim U[-\\pi, \\pi]$.\n",
        "\n",
        "На новых признаках $\\tilde \\varphi(x)$ мы будем строить любую линейную модель.\n",
        "\n",
        "Можно считать, что это некоторая новая парадигма построения сложных моделей. Можно направленно искать сложные нелинейные закономерности в данных с помощью градиентного бустинга или нейронных сетей, а можно просто нагенерировать большое количество случайных нелинейных признаков и надеяться, что быстрая и простая модель (то есть линейная) сможет показать на них хорошее качество. В этом задании мы изучим, насколько работоспособна такая идея.\n",
        "\n",
        "### Алгоритм\n",
        "\n",
        "Вам потребуется реализовать следующий алгоритм:\n",
        "1. Понизить размерность выборки до new_dim с помощью метода главных компонент.\n",
        "2. Для полученной выборки оценить гиперпараметр $\\sigma^2$ с помощью эвристики (рекомендуем считать медиану не по всем парам объектов, а по случайному подмножеству из где-то миллиона пар объектов): $$\\sigma^2 = \\text{median}_{i, j = 1, \\dots, \\ell, i \\neq j} \\left\\{\\sum_{k = 1}^{d} (x_{ik} - x_{jk})^2 \\right\\}$$\n",
        "3. Сгенерировать n_features наборов весов $w_j$ и сдвигов $b_j$.\n",
        "4. Сформировать n_features новых признаков по формулам, приведённым выше.\n",
        "5. Обучить линейную модель (логистическую регрессию или SVM) на новых признаках.\n",
        "6. Повторить преобразования (PCA, формирование новых признаков) к тестовой выборке и применить модель."
      ]
    },
    {
      "cell_type": "markdown",
      "metadata": {
        "id": "N_sGunb7K-hS"
      },
      "source": [
        "Тестировать алгоритм мы будем на данных Fashion MNIST. Ниже код для их загрузки и подготовки."
      ]
    },
    {
      "cell_type": "code",
      "metadata": {
        "id": "YyG6dBfjK-hS",
        "colab": {
          "base_uri": "https://localhost:8080/"
        },
        "outputId": "7c5fd412-6262-470d-f698-c603790df90a"
      },
      "source": [
        "import keras\n",
        "from keras.datasets import fashion_mnist\n",
        "(x_train_pics, y_train), (x_test_pics, y_test) = fashion_mnist.load_data()\n",
        "x_train = x_train_pics.reshape(x_train_pics.shape[0], -1)\n",
        "x_test = x_test_pics.reshape(x_test_pics.shape[0], -1)"
      ],
      "execution_count": null,
      "outputs": [
        {
          "output_type": "stream",
          "text": [
            "Downloading data from https://storage.googleapis.com/tensorflow/tf-keras-datasets/train-labels-idx1-ubyte.gz\n",
            "32768/29515 [=================================] - 0s 0us/step\n",
            "Downloading data from https://storage.googleapis.com/tensorflow/tf-keras-datasets/train-images-idx3-ubyte.gz\n",
            "26427392/26421880 [==============================] - 0s 0us/step\n",
            "Downloading data from https://storage.googleapis.com/tensorflow/tf-keras-datasets/t10k-labels-idx1-ubyte.gz\n",
            "8192/5148 [===============================================] - 0s 0us/step\n",
            "Downloading data from https://storage.googleapis.com/tensorflow/tf-keras-datasets/t10k-images-idx3-ubyte.gz\n",
            "4423680/4422102 [==============================] - 0s 0us/step\n"
          ],
          "name": "stdout"
        }
      ]
    },
    {
      "cell_type": "markdown",
      "metadata": {
        "id": "rJNN55F7K-hT"
      },
      "source": [
        "__Задание 1. (5 баллов)__\n",
        "\n",
        "Реализуйте алгоритм, описанный выше. Можете воспользоваться шаблоном класса ниже или написать свой интерфейс.\n",
        "\n",
        "Ваша реализация должна поддерживать следующие опции:\n",
        "1. Возможность задавать значения гиперпараметров new_dim (по умолчанию 50) и n_features (по умолчанию 1000).\n",
        "2. Возможность включать или выключать предварительное понижение размерности с помощью метода главных компонент.\n",
        "3. Возможность выбирать тип линейной модели (логистическая регрессия или SVM с линейным ядром).\n",
        "\n",
        "Протестируйте на данных Fashion MNIST, сформированных кодом выше. Если на тесте у вас получилась доля верных ответов не ниже 0.84 с гиперпараметрами по умолчанию, то вы всё сделали правильно."
      ]
    },
    {
      "cell_type": "code",
      "metadata": {
        "id": "nkSZI9Nm0mOE"
      },
      "source": [
        "import numpy as np\r\n",
        "from sklearn.decomposition import PCA\r\n",
        "from sklearn.linear_model import LogisticRegression\r\n",
        "from sklearn.svm import SVC\r\n",
        "from sklearn.metrics import accuracy_score\r\n",
        "import logging\r\n",
        "logger = logging.getLogger()\r\n",
        "logger.setLevel(logging.INFO)\r\n",
        "import time\r\n",
        "from IPython.display import clear_output\r\n",
        "import matplotlib.pyplot as plt\r\n",
        "plt.style.use('ggplot')\r\n",
        "from scipy.linalg import qr\r\n",
        "import scipy.stats as stats"
      ],
      "execution_count": null,
      "outputs": []
    },
    {
      "cell_type": "code",
      "metadata": {
        "id": "zGqkeAuY3qBg"
      },
      "source": [
        "# возьмем 2000 уникальных объектов и составим из них миллион пар\r\n",
        "def find_sigma_sq(self):\r\n",
        "    n = 1000\r\n",
        "    l = len(self.X)\r\n",
        "    random_subset = self.rng.choice(l, size=2 * n, replace=False)\r\n",
        "    a1 = self.X[random_subset[:n], :].reshape(1, n, -1)\r\n",
        "    a2 = self.X[random_subset[n:], :].reshape(n, 1, -1)\r\n",
        "    return np.median( ((a1 - a2) ** 2).sum(2) )\r\n",
        "\r\n",
        "def random_params(self):\r\n",
        "    w = self.rng.normal(0, 1 / np.sqrt(self.sigma_sq),\r\n",
        "                         size=(self.X.shape[1], self.n_features))\r\n",
        "    b = self.rng.uniform(-1, 1, size=self.n_features) * np.pi\r\n",
        "    return w, b"
      ],
      "execution_count": null,
      "outputs": []
    },
    {
      "cell_type": "code",
      "metadata": {
        "id": "jP8yepx8K-hT"
      },
      "source": [
        "from sklearn.base import BaseEstimator, TransformerMixin\n",
        "\n",
        "\n",
        "class RFFPipeline(BaseEstimator, TransformerMixin):\n",
        "    def __init__(self, n_features=1000, new_dim=50, use_PCA=True,\n",
        "                 classifier='logreg', seed=89, transform=np.cos):\n",
        "        \"\"\"        \n",
        "        Implements pipeline, which consists of PCA decomposition,\n",
        "        Random Fourier Features approximation and linear classification model.\n",
        "        \n",
        "        n_features, int: amount of synthetic random features generated with RFF approximation.\n",
        "\n",
        "        new_dim, int: PCA output size.\n",
        "        \n",
        "        use_PCA, bool: whether to include PCA preprocessing.\n",
        "        \n",
        "        classifier, string: either 'svm' or 'logreg', a linear classification model to use on top of pipeline.\n",
        "        \n",
        "        Feel free to edit this template for your preferences.    \n",
        "        \"\"\"\n",
        "        self.n_features = n_features\n",
        "        self.use_PCA = use_PCA\n",
        "        self.new_dim = new_dim\n",
        "        self.classifier = classifier\n",
        "        # для воспроизводимости результатов\n",
        "        self.seed = seed\n",
        "        self.rng = np.random.RandomState(seed)\n",
        "        # чтобы потом можно было поменять косинус\n",
        "        self.transform = transform\n",
        "        \n",
        "    def fit(self, X, y):\n",
        "        \"\"\"\n",
        "        Fit all parts of algorithm (PCA, RFF, Classification) to training set.\n",
        "        \"\"\"\n",
        "        self.X = X\n",
        "        self.y = y\n",
        "\n",
        "        if self.use_PCA:\n",
        "            self.pca = PCA(n_components=self.new_dim, random_state=self.seed)\n",
        "            self.X = self.pca.fit_transform(self.X)\n",
        "            logging.info('PCA: done')\n",
        "  \n",
        "        self.sigma_sq = find_sigma_sq(self)\n",
        "        logging.info('sigma: done')\n",
        "\n",
        "        self.w, self.b = random_params(self)\n",
        "        logging.info('random params: done')\n",
        "\n",
        "        self.X = self.transform(self.X @ self.w + self.b)\n",
        "        logging.info('new features: done')\n",
        "\n",
        "        if self.classifier == 'logreg':\n",
        "            self.model = LogisticRegression()\n",
        "        elif self.classifier == 'svm':\n",
        "            self.model = SVC(kernel='linear', probability=False,\n",
        "                             random_state=self.seed)\n",
        "        # для другого классификатора в бонусном задании\n",
        "        elif callable(self.classifier):\n",
        "            self.model = self.classifier()\n",
        "        else:\n",
        "            raise NotImplementedError\n",
        "        \n",
        "        logging.info('fitting model...')\n",
        "        self.model.fit(self.X, self.y)\n",
        "        clear_output()\n",
        "\n",
        "    def transform_new_data(self, X):\n",
        "        if self.use_PCA:\n",
        "              X = self.pca.transform(X)\n",
        "        X = self.transform(X @ self.w + self.b)\n",
        "        return X\n",
        "        \n",
        "    def predict(self, X):\n",
        "        \"\"\"\n",
        "        Apply pipeline to obtain discrete predictions for input data.\n",
        "        \"\"\"\n",
        "        X = self.transform_new_data(X)\n",
        "        return self.model.predict(X)"
      ],
      "execution_count": null,
      "outputs": []
    },
    {
      "cell_type": "code",
      "metadata": {
        "colab": {
          "base_uri": "https://localhost:8080/"
        },
        "id": "rGWMt7XHDMCC",
        "outputId": "7b1a88f3-18d2-428d-cafc-9fcc5640c1a8"
      },
      "source": [
        "model = RFFPipeline(classifier='logreg')\r\n",
        "model.fit(x_train, y_train)\r\n",
        "preds = model.predict(x_test)\r\n",
        "accuracy_score(y_test, preds)"
      ],
      "execution_count": null,
      "outputs": [
        {
          "output_type": "execute_result",
          "data": {
            "text/plain": [
              "0.8574"
            ]
          },
          "metadata": {
            "tags": []
          },
          "execution_count": 9
        }
      ]
    },
    {
      "cell_type": "markdown",
      "metadata": {
        "id": "N8f5RMtAEOj9"
      },
      "source": [
        "Победа😎"
      ]
    },
    {
      "cell_type": "markdown",
      "metadata": {
        "id": "HYqQUEi-K-hU"
      },
      "source": [
        "__Задание 2. (3 балла)__\n",
        "\n",
        "Сравните подход со случайными признаками с обучением SVM на исходных признаках. Попробуйте вариант с обычным (линейным) SVM и с ядровым SVM. Ядровой SVM может очень долго обучаться, поэтому можно делать любые разумные вещи для ускорения: брать подмножество объектов из обучающей выборки, например.\n",
        "\n",
        "Сравните подход со случайными признаками с вариантом, в котором вы понижаете размерность с помощью PCA и обучаете градиентный бустинг. Используйте одну из реализаций CatBoost/LightGBM/XGBoost, не забудьте подобрать число деревьев и длину шага.\n",
        "\n",
        "Сделайте выводы — насколько идея со случайными признаками работает? Сравните как с точки зрения качества, так и с точки зрения скорости обучения и применения."
      ]
    },
    {
      "cell_type": "code",
      "metadata": {
        "id": "gLGmTDaRIXrm"
      },
      "source": [
        "# SVM и на линейном ядре учится очень медленно, поэтому\r\n",
        "# будем учить все модели на одном подмножестве признаков\r\n",
        "np.random.seed(89)\r\n",
        "random_subset = np.random.choice(10000, size=6000, replace=False)"
      ],
      "execution_count": null,
      "outputs": []
    },
    {
      "cell_type": "code",
      "metadata": {
        "colab": {
          "base_uri": "https://localhost:8080/"
        },
        "id": "-nIkKNauD4w_",
        "outputId": "07227b0e-d56b-4ca1-d8a8-3a3ef0433e93"
      },
      "source": [
        "# SVM со случайными признаками\r\n",
        "start = time.time()\r\n",
        "model = RFFPipeline(classifier='svm')\r\n",
        "model.fit(x_train[random_subset, :], y_train[random_subset])\r\n",
        "preds = model.predict(x_test)\r\n",
        "print(accuracy_score(y_test, preds))\r\n",
        "finish = time.time()\r\n",
        "print(f'Время выполнения: {finish - start:.0f} с')"
      ],
      "execution_count": null,
      "outputs": [
        {
          "output_type": "stream",
          "text": [
            "0.8383\n",
            "Время выполнения: 51 с\n"
          ],
          "name": "stdout"
        }
      ]
    },
    {
      "cell_type": "code",
      "metadata": {
        "colab": {
          "base_uri": "https://localhost:8080/"
        },
        "id": "6qI0uhmhGL7K",
        "outputId": "cc7bbe5c-d0e7-4233-8694-d140dbd3c850"
      },
      "source": [
        "# SVM с линейным ядром на исходных данных\r\n",
        "start = time.time()\r\n",
        "svm = SVC(kernel='linear')\r\n",
        "svm.fit(x_train[random_subset, :], y_train[random_subset])\r\n",
        "preds = svm.predict(x_test)\r\n",
        "print(accuracy_score(y_test, preds))\r\n",
        "finish = time.time()\r\n",
        "print(f'Время выполнения: {finish - start:.0f} с')"
      ],
      "execution_count": null,
      "outputs": [
        {
          "output_type": "stream",
          "text": [
            "0.7981\n",
            "Время выполнения: 44 с\n"
          ],
          "name": "stdout"
        }
      ]
    },
    {
      "cell_type": "code",
      "metadata": {
        "id": "qN8LUlJgK-hV",
        "colab": {
          "base_uri": "https://localhost:8080/"
        },
        "outputId": "4dc0009c-a960-4a4d-a98a-93eb35a822bd"
      },
      "source": [
        "# SVM с гауссовым ядром на исходных данных\r\n",
        "start = time.time()\r\n",
        "svm = SVC(kernel='rbf')\r\n",
        "svm.fit(x_train[random_subset, :], y_train[random_subset])\r\n",
        "preds = svm.predict(x_test)\r\n",
        "print(accuracy_score(y_test, preds))\r\n",
        "finish = time.time()\r\n",
        "print(f'Время выполнения: {finish - start:.0f} с')"
      ],
      "execution_count": null,
      "outputs": [
        {
          "output_type": "stream",
          "text": [
            "0.8412\n",
            "Время выполнения: 60 с\n"
          ],
          "name": "stdout"
        }
      ]
    },
    {
      "cell_type": "markdown",
      "metadata": {
        "id": "IGu7d3pPLmFV"
      },
      "source": [
        "Качество с гауссовым ядром лучше, чем с линейным, и это неудивительно. Однако случайные признаки отлично *приблизили* гауссово ядро. Это пример того, как аппроксимация ядер неплохо работает. Причем уже после понижения размерности, т.е. после потери части данных. В следующем задании посмотрим, что будет, если размерность не понижать.\r\n",
        "\r\n",
        "Но случайные признаки отработали немного быстрее rbf-ядра."
      ]
    },
    {
      "cell_type": "code",
      "metadata": {
        "colab": {
          "base_uri": "https://localhost:8080/"
        },
        "id": "cY3OOyCvNswV",
        "outputId": "a64387ea-f870-462e-af86-0842dd469688"
      },
      "source": [
        "!pip install catboost\r\n",
        "from catboost import CatBoostClassifier\r\n",
        "from sklearn.model_selection import KFold"
      ],
      "execution_count": null,
      "outputs": [
        {
          "output_type": "stream",
          "text": [
            "Collecting catboost\n",
            "\u001b[?25l  Downloading https://files.pythonhosted.org/packages/20/37/bc4e0ddc30c07a96482abf1de7ed1ca54e59bba2026a33bca6d2ef286e5b/catboost-0.24.4-cp36-none-manylinux1_x86_64.whl (65.7MB)\n",
            "\u001b[K     |████████████████████████████████| 65.8MB 79kB/s \n",
            "\u001b[?25hRequirement already satisfied: scipy in /usr/local/lib/python3.6/dist-packages (from catboost) (1.4.1)\n",
            "Requirement already satisfied: plotly in /usr/local/lib/python3.6/dist-packages (from catboost) (4.4.1)\n",
            "Requirement already satisfied: numpy>=1.16.0 in /usr/local/lib/python3.6/dist-packages (from catboost) (1.19.5)\n",
            "Requirement already satisfied: six in /usr/local/lib/python3.6/dist-packages (from catboost) (1.15.0)\n",
            "Requirement already satisfied: graphviz in /usr/local/lib/python3.6/dist-packages (from catboost) (0.10.1)\n",
            "Requirement already satisfied: pandas>=0.24.0 in /usr/local/lib/python3.6/dist-packages (from catboost) (1.1.5)\n",
            "Requirement already satisfied: matplotlib in /usr/local/lib/python3.6/dist-packages (from catboost) (3.2.2)\n",
            "Requirement already satisfied: retrying>=1.3.3 in /usr/local/lib/python3.6/dist-packages (from plotly->catboost) (1.3.3)\n",
            "Requirement already satisfied: pytz>=2017.2 in /usr/local/lib/python3.6/dist-packages (from pandas>=0.24.0->catboost) (2018.9)\n",
            "Requirement already satisfied: python-dateutil>=2.7.3 in /usr/local/lib/python3.6/dist-packages (from pandas>=0.24.0->catboost) (2.8.1)\n",
            "Requirement already satisfied: pyparsing!=2.0.4,!=2.1.2,!=2.1.6,>=2.0.1 in /usr/local/lib/python3.6/dist-packages (from matplotlib->catboost) (2.4.7)\n",
            "Requirement already satisfied: kiwisolver>=1.0.1 in /usr/local/lib/python3.6/dist-packages (from matplotlib->catboost) (1.3.1)\n",
            "Requirement already satisfied: cycler>=0.10 in /usr/local/lib/python3.6/dist-packages (from matplotlib->catboost) (0.10.0)\n",
            "Installing collected packages: catboost\n",
            "Successfully installed catboost-0.24.4\n"
          ],
          "name": "stdout"
        }
      ]
    },
    {
      "cell_type": "code",
      "metadata": {
        "id": "DgHixp5FOoeC"
      },
      "source": [
        "params = {\r\n",
        "        'learning_rate': 0.1,\r\n",
        "        'iterations' : 1000,\r\n",
        "        'task_type':'GPU',\r\n",
        "        'loss_function' : 'MultiClassOneVsAll',\r\n",
        "        'eval_metric' : 'MultiClassOneVsAll',\r\n",
        "        'bootstrap_type' : 'Poisson',\r\n",
        "        'random_seed' : 89\r\n",
        "}"
      ],
      "execution_count": null,
      "outputs": []
    },
    {
      "cell_type": "code",
      "metadata": {
        "id": "NEQ_DGHYZaYc"
      },
      "source": [
        "kf = KFold(n_splits=10, shuffle=True, random_state=89)"
      ],
      "execution_count": null,
      "outputs": []
    },
    {
      "cell_type": "code",
      "metadata": {
        "id": "lOGQa4d8Ws4p"
      },
      "source": [
        "pca = PCA(n_components=50)\r\n",
        "x_train_pca = pca.fit_transform(x_train)\r\n",
        "x_test_pca = pca.transform(x_test)"
      ],
      "execution_count": null,
      "outputs": []
    },
    {
      "cell_type": "code",
      "metadata": {
        "colab": {
          "base_uri": "https://localhost:8080/"
        },
        "id": "v-63wjuzYu4l",
        "outputId": "61f9ac7c-6903-4029-fb0c-5767763b08c2"
      },
      "source": [
        "accuracies = []\r\n",
        "for i, (train_index, test_index) in enumerate(kf.split(y_train)):\r\n",
        "    model = CatBoostClassifier(**params)\r\n",
        "    \r\n",
        "    y_learn, y_valid = y_train[train_index], y_train[test_index]\r\n",
        "    X_learn, X_valid = x_train_pca[train_index,:], x_train_pca[test_index,:]\r\n",
        "    print( \"\\nFold \", i)\r\n",
        "    \r\n",
        "    model.fit( X_learn, y_learn, \r\n",
        "               eval_set=(X_valid, y_valid),\r\n",
        "               metric_period=200\r\n",
        "              )\r\n",
        "        \r\n",
        "    pred = model.predict(X_valid)\r\n",
        "    acc = accuracy_score(y_valid, pred)\r\n",
        "    accuracies.append(acc)\r\n",
        "    clear_output(wait=True)\r\n",
        "    print(f'accuracy: {acc}')\r\n",
        "\r\n",
        "print(f'Cross val accuracy: {np.mean(accuracies)}')"
      ],
      "execution_count": null,
      "outputs": [
        {
          "output_type": "stream",
          "text": [
            "accuracy: 0.8885\n",
            "Cross val accuracy: 0.8808333333333334\n"
          ],
          "name": "stdout"
        }
      ]
    },
    {
      "cell_type": "code",
      "metadata": {
        "colab": {
          "base_uri": "https://localhost:8080/"
        },
        "id": "o94kGuDBYACF",
        "outputId": "d2f723b6-2ad8-4372-ad26-b1c1360d24b7"
      },
      "source": [
        "boosting = CatBoostClassifier(**params)\r\n",
        "boosting.fit(x_train_pca, y_train, metric_period=100)\r\n",
        "preds = boosting.predict(x_test_pca)\r\n",
        "clear_output()\r\n",
        "accuracy_score(y_test, preds)"
      ],
      "execution_count": null,
      "outputs": [
        {
          "output_type": "execute_result",
          "data": {
            "text/plain": [
              "0.871"
            ]
          },
          "metadata": {
            "tags": []
          },
          "execution_count": 10
        }
      ]
    },
    {
      "cell_type": "markdown",
      "metadata": {
        "id": "4VWx0uhab9Ts"
      },
      "source": [
        "Бустинг равно оказался лучше, но всего на пару процентов по сравнению с лучшей моделью на случайных признаках - лог регрессией. Такая разница скорее объясняется большим числом гиперпараметров, подбор которых позволяет немного улучшить качество на тесте. Учится он также быстрее, если не учитывать время на выбор гиперпараметров.\r\n",
        "\r\n",
        "(ниже будет пример, как ооочень медленный svm на всех данных даст немного лучше качество)"
      ]
    },
    {
      "cell_type": "markdown",
      "metadata": {
        "id": "NOoO7eftceVO"
      },
      "source": [
        "__Задание 3. (2 балла)__\r\n",
        "\r\n",
        "Проведите эксперименты:\r\n",
        "1. Помогает ли предварительное понижение размерности с помощью PCA? \r\n",
        "2. Как зависит итоговое качество от n_features? Выходит ли оно на плато при росте n_features?\r\n",
        "3. Важно ли, какую модель обучать — логистическую регрессию или SVM?"
      ]
    },
    {
      "cell_type": "markdown",
      "metadata": {
        "id": "dqYMqwnnCFrq"
      },
      "source": [
        "Попробуем сразу ответить на первые 2 вопроса. Обучим логистическую регрессию (она быстро учится на всех данных) с понижением размерности и без него для нескольких значений `n_features` и посмотрим, что получится:"
      ]
    },
    {
      "cell_type": "code",
      "metadata": {
        "id": "ZL1dBvICCi9w"
      },
      "source": [
        "n_features = np.array([800, 1000, 1200, 1400, 1600, 1800, 2000])\r\n",
        "acc_pca = []\r\n",
        "acc_no_pca = []\r\n",
        "for n in n_features:\r\n",
        "    print(n)\r\n",
        "    for array, use_PCA in zip(\r\n",
        "        [acc_pca, acc_no_pca],\r\n",
        "        [True, False]\r\n",
        "    ):\r\n",
        "      model = RFFPipeline(n_features=n, use_PCA=use_PCA)\r\n",
        "      model.fit(x_train, y_train)\r\n",
        "      preds = model.predict(x_test)\r\n",
        "      array.append(accuracy_score(y_test, preds))"
      ],
      "execution_count": null,
      "outputs": []
    },
    {
      "cell_type": "code",
      "metadata": {
        "colab": {
          "base_uri": "https://localhost:8080/",
          "height": 386
        },
        "id": "7X1gEZGkoHIB",
        "outputId": "fe83ef82-35bf-4c16-a430-fa7aa23af87a"
      },
      "source": [
        "fig, ax = plt.subplots(1, 2, figsize=[8, 4], dpi=100, sharey=False)\r\n",
        "\r\n",
        "for j, acc in enumerate([acc_pca, acc_no_pca]):\r\n",
        "    ax[j].plot(n_features, acc, '.--', c=f'C{j}')\r\n",
        "    ax[j].set(xticks=n_features, xlabel='n_features')\r\n",
        "\r\n",
        "ax[0].set_ylabel('accuracy');"
      ],
      "execution_count": null,
      "outputs": [
        {
          "output_type": "display_data",
          "data": {
            "image/png": "[encoded data removed]",
            "text/plain": [
              "<Figure size 800x400 with 2 Axes>"
            ]
          },
          "metadata": {
            "tags": []
          }
        }
      ]
    },
    {
      "cell_type": "markdown",
      "metadata": {
        "id": "io07LY4RQfLU"
      },
      "source": [
        "Итак, понижение размерности с помощью МГК, как говорил Владимир Ильич Ленин, [архинужно и архиважно](https://www.youtube.com/watch?v=XfaUpBlKLvA&ab_channel=beibotanov). \r\n",
        "\r\n",
        "Также логистическая регрессия с МГК качество выходит на плато к 2000 случайным признакам.\r\n",
        "\r\n",
        "Теперь научим для тех же `n_features` SVM на $1/6$ данных:"
      ]
    },
    {
      "cell_type": "code",
      "metadata": {
        "id": "bKAv54j8Mu08"
      },
      "source": [
        "acc_svm = []\r\n",
        "for n in n_features:\r\n",
        "    print(n)\r\n",
        "    model = RFFPipeline(n_features=n, classifier='svm')\r\n",
        "    model.fit(x_train[random_subset, :], y_train[random_subset])\r\n",
        "    preds = model.predict(x_test)\r\n",
        "    acc_svm.append(accuracy_score(y_test, preds))"
      ],
      "execution_count": null,
      "outputs": []
    },
    {
      "cell_type": "code",
      "metadata": {
        "colab": {
          "base_uri": "https://localhost:8080/",
          "height": 362
        },
        "id": "18tgD991ULcw",
        "outputId": "a9f74203-0029-4590-a67c-b0d98fe78067"
      },
      "source": [
        "fig, ax = plt.subplots(figsize=[4, 4], dpi=100, sharey=False)\r\n",
        "\r\n",
        "ax.plot(n_features, acc_pca, '.--', label='logreg')\r\n",
        "ax.plot(n_features, acc_svm, '.--', label='svm')\r\n",
        "ax.legend();"
      ],
      "execution_count": null,
      "outputs": [
        {
          "output_type": "display_data",
          "data": {
            "image/png": "[encoded data removed]",
            "text/plain": [
              "<Figure size 400x400 with 1 Axes>"
            ]
          },
          "metadata": {
            "tags": []
          }
        }
      ]
    },
    {
      "cell_type": "markdown",
      "metadata": {
        "id": "Pxh0N4C_UgJ7"
      },
      "source": [
        "SVM дает результаты где-то на 2% хуже, но он учился лишь на $1/6$ данных! Еще интересно, что SVM дает лучшее качество на 800 признаках. Попробуем научить его с этим числом признаков на всех данных:"
      ]
    },
    {
      "cell_type": "code",
      "metadata": {
        "colab": {
          "base_uri": "https://localhost:8080/"
        },
        "id": "zxdEGSMqaVhD",
        "outputId": "6b40c7e0-3ab1-4ba6-d412-fe54ab284f5f"
      },
      "source": [
        "model = RFFPipeline(n_features=800, classifier='svm')\r\n",
        "model.fit(x_train, y_train)\r\n",
        "preds = model.predict(x_test)\r\n",
        "print(accuracy_score(y_test, preds))"
      ],
      "execution_count": null,
      "outputs": [
        {
          "output_type": "stream",
          "text": [
            "0.8788\n"
          ],
          "name": "stdout"
        }
      ]
    },
    {
      "cell_type": "markdown",
      "metadata": {
        "id": "QHFJZXAifO6T"
      },
      "source": [
        "Делаем вывод, что выбор между svm и lr - это выбор между чуть лучшим качеством и заметно лучшей скоростью."
      ]
    },
    {
      "cell_type": "markdown",
      "metadata": {
        "id": "CJqXVuasK-hW"
      },
      "source": [
        "### Бонус"
      ]
    },
    {
      "cell_type": "markdown",
      "metadata": {
        "id": "QVDWHCdrK-hX"
      },
      "source": [
        "__Задание 4. (Максимум 2 балла)__\n",
        "\n",
        "Как вы, должно быть, помните с курса МО-1, многие алгоритмы машинного обучения работают лучше, если признаки данных некоррелированы. Оказывается, что для RFF существует модификация, позволяющая получать ортогональные случайные признаки (Orthogonal Random Features, ORF). Об этом методе можно прочитать в [статье](https://proceedings.neurips.cc/paper/2016/file/53adaf494dc89ef7196d73636eb2451b-Paper.pdf). Реализуйте класс для вычисления ORF по аналогии с основным заданием. Обратите внимание, что ваш класс должен уметь работать со случаем n_features > new_dim (в статье есть замечание на этот счет). Проведите эксперименты, сравнивающие RFF и ORF, сделайте выводы."
      ]
    },
    {
      "cell_type": "code",
      "metadata": {
        "id": "fb_Df1My97uH"
      },
      "source": [
        "def make_linear_transform(self):\r\n",
        "    d = self.X.shape[1]\r\n",
        "    G = stats.norm.rvs(size=(d, d), random_state=self.seed)\r\n",
        "    Q, _ = qr(G)\r\n",
        "    S = np.diag(stats.chi.rvs(df=d, size=d, random_state=self.seed))\r\n",
        "    W = S @ Q\r\n",
        "\r\n",
        "    # на случай D > d. Будем менять сид, чтобы случайные величины не повторялись\r\n",
        "    for j in range(self.m - 1):\r\n",
        "        G = stats.norm.rvs(size=(d, d), random_state=self.seed + 1 + j)\r\n",
        "        Q, _ = qr(G)\r\n",
        "        S = np.diag(stats.chi.rvs(df=d, size=d, random_state=self.seed + 1 + j))\r\n",
        "        W = np.hstack((W, S @ Q))\r\n",
        "    \r\n",
        "    return W / np.sqrt(self.sigma_sq)"
      ],
      "execution_count": null,
      "outputs": []
    },
    {
      "cell_type": "code",
      "metadata": {
        "id": "HSxvGI9iK-hX"
      },
      "source": [
        "class ORFPipeline(BaseEstimator, TransformerMixin):\r\n",
        "    def __init__(self, n_samples=1, new_dim=50, use_PCA=True,\r\n",
        "                 classifier='logreg', seed=89):\r\n",
        "        \"\"\"        \r\n",
        "        Implements pipeline, which consists of PCA decomposition,\r\n",
        "        Orthogonal Random Features approximation and linear classification model.\r\n",
        "        \r\n",
        "        n_samples, int: сколько раз семплируем матрицу W (для случая D > d)\r\n",
        "\r\n",
        "        new_dim, int: PCA output size.\r\n",
        "        \r\n",
        "        use_PCA, bool: whether to include PCA preprocessing.\r\n",
        "        \r\n",
        "        classifier, string: either 'svm' or 'logreg', a linear classification model to use on top of pipeline.\r\n",
        "        \r\n",
        "        Feel free to edit this template for your preferences.    \r\n",
        "        \"\"\"\r\n",
        "        self.m = n_samples\r\n",
        "        self.use_PCA = use_PCA\r\n",
        "        self.new_dim = new_dim\r\n",
        "        self.classifier = classifier\r\n",
        "        # для воспроизводимости результатов\r\n",
        "        self.seed = seed\r\n",
        "        self.rng = np.random.RandomState(seed)\r\n",
        "        \r\n",
        "    def fit(self, X, y):\r\n",
        "        \"\"\"\r\n",
        "        Fit all parts of algorithm (PCA, RFF, Classification) to training set.\r\n",
        "        \"\"\"\r\n",
        "        self.X = X\r\n",
        "        self.y = y\r\n",
        "\r\n",
        "        if self.use_PCA:\r\n",
        "            self.pca = PCA(n_components=self.new_dim, random_state=self.seed)\r\n",
        "            self.X = self.pca.fit_transform(self.X)\r\n",
        "            logging.info('PCA: done')\r\n",
        "\r\n",
        "        self.sigma_sq = find_sigma_sq(self)\r\n",
        "        logging.info('sigma: done')\r\n",
        "\r\n",
        "        self.W = make_linear_transform(self)\r\n",
        "        logging.info('random params: done')\r\n",
        "\r\n",
        "        self.X = np.hstack((\r\n",
        "            np.cos(self.X @ self.W),\r\n",
        "            np.sin(self.X @ self.W)\r\n",
        "        ))\r\n",
        "        logging.info('new features: done')\r\n",
        "\r\n",
        "        if self.classifier == 'logreg':\r\n",
        "            self.model = LogisticRegression()\r\n",
        "        elif self.classifier == 'svm':\r\n",
        "            self.model = SVC(kernel='linear', probability=False,\r\n",
        "                             random_state=self.seed)\r\n",
        "        # для другого классификатора в бонусном задании\r\n",
        "        elif callable(self.classifier):\r\n",
        "            self.model = self.classifier()\r\n",
        "        else:\r\n",
        "            raise NotImplementedError\r\n",
        "        \r\n",
        "        logging.info('fitting model...')\r\n",
        "        self.model.fit(self.X, self.y)\r\n",
        "        clear_output()\r\n",
        "\r\n",
        "    def transform_new_data(self, X):\r\n",
        "        if self.use_PCA:\r\n",
        "              X = self.pca.transform(X)\r\n",
        "        X = np.hstack((\r\n",
        "            np.cos(X @ self.W),\r\n",
        "            np.sin(X @ self.W)\r\n",
        "        ))\r\n",
        "        return X\r\n",
        "        \r\n",
        "    def predict(self, X):\r\n",
        "        \"\"\"\r\n",
        "        Apply pipeline to obtain discrete predictions for input data.\r\n",
        "        \"\"\"\r\n",
        "        X = self.transform_new_data(X)\r\n",
        "        return self.model.predict(X)"
      ],
      "execution_count": null,
      "outputs": []
    },
    {
      "cell_type": "markdown",
      "metadata": {
        "id": "dWTneOqLX3Pf"
      },
      "source": [
        "Сравним с RFF. Логистическая регрессия: было $0.8574$ на всех данных с 1000 фичами."
      ]
    },
    {
      "cell_type": "code",
      "metadata": {
        "colab": {
          "base_uri": "https://localhost:8080/"
        },
        "id": "zUfQwxOLXPBy",
        "outputId": "38a4ad2a-06c6-4a30-c9ab-224b6a38dadb"
      },
      "source": [
        "# 100 фичей\r\n",
        "model = ORFPipeline(classifier='logreg')\r\n",
        "model.fit(x_train, y_train)\r\n",
        "preds = model.predict(x_test)\r\n",
        "accuracy_score(y_test, preds)"
      ],
      "execution_count": null,
      "outputs": [
        {
          "output_type": "execute_result",
          "data": {
            "text/plain": [
              "0.8397"
            ]
          },
          "metadata": {
            "tags": []
          },
          "execution_count": 33
        }
      ]
    },
    {
      "cell_type": "code",
      "metadata": {
        "colab": {
          "base_uri": "https://localhost:8080/"
        },
        "id": "IyjhpWWwX5tp",
        "outputId": "d43048e5-4001-4832-871b-6bfa810d1bd6"
      },
      "source": [
        "# 1000 фичей\r\n",
        "model = ORFPipeline(classifier='logreg', n_samples=10)\r\n",
        "model.fit(x_train, y_train)\r\n",
        "preds = model.predict(x_test)\r\n",
        "accuracy_score(y_test, preds)"
      ],
      "execution_count": null,
      "outputs": [
        {
          "output_type": "execute_result",
          "data": {
            "text/plain": [
              "0.8565"
            ]
          },
          "metadata": {
            "tags": []
          },
          "execution_count": 34
        }
      ]
    },
    {
      "cell_type": "markdown",
      "metadata": {
        "id": "lALvy3kpcI2Z"
      },
      "source": [
        "SVM: было $0.8788$ c 800 фичами и дооолгим обучением."
      ]
    },
    {
      "cell_type": "code",
      "metadata": {
        "colab": {
          "base_uri": "https://localhost:8080/"
        },
        "id": "PBjLjVyeYbDv",
        "outputId": "565e3d9a-c993-4146-fbd1-235dbb5d19de"
      },
      "source": [
        "# 100 фичей\r\n",
        "model = ORFPipeline(classifier='svm')\r\n",
        "model.fit(x_train, y_train)\r\n",
        "preds = model.predict(x_test)\r\n",
        "accuracy_score(y_test, preds)"
      ],
      "execution_count": null,
      "outputs": [
        {
          "output_type": "execute_result",
          "data": {
            "text/plain": [
              "0.852"
            ]
          },
          "metadata": {
            "tags": []
          },
          "execution_count": 35
        }
      ]
    },
    {
      "cell_type": "code",
      "metadata": {
        "colab": {
          "base_uri": "https://localhost:8080/"
        },
        "id": "q6G7Zoq6bRQ2",
        "outputId": "e82e4052-9d6e-48f4-bfde-269a4a9f194b"
      },
      "source": [
        "# 800 фичей (дооолго)\r\n",
        "model = ORFPipeline(classifier='svm', n_samples=8)\r\n",
        "model.fit(x_train, y_train)\r\n",
        "preds = model.predict(x_test)\r\n",
        "accuracy_score(y_test, preds)"
      ],
      "execution_count": null,
      "outputs": [
        {
          "output_type": "execute_result",
          "data": {
            "text/plain": [
              "0.8785"
            ]
          },
          "metadata": {
            "tags": []
          },
          "execution_count": 36
        }
      ]
    },
    {
      "cell_type": "markdown",
      "metadata": {
        "id": "31pTKWzTb2Lb"
      },
      "source": [
        "В общем, те же Фобос и Деймос, но с другого ракурса😒 Доля правильных ответов отличается только в третьем-четвертом знаке для обоих методов. С другой стороны, в статье говорится про MSE, а лосс не всегда отражается на аккураси.\r\n",
        "\r\n",
        "Мне тут кажется наиболее интересным результат с моделями, в которых мы семплировали одну матрицу размера $l \\times l$ и получали сравнимое качество всего с сотней признаков, заметно выигрывая в памяти и скорости вычислений."
      ]
    },
    {
      "cell_type": "markdown",
      "metadata": {
        "id": "4pc7-1jmK-hY"
      },
      "source": [
        "__Задание 5. (Максимум 2 балла)__\n",
        "\n",
        "Поэкспериментируйте с функциями для вычисления новых случайных признаков. Не обязательно использовать косинус от скалярного произведения — можно брать знак от него, хэш и т.д. Придумайте побольше вариантов для генерации признаков и проверьте, не получается ли с их помощью добиваться более высокого качества. Также можете попробовать другой классификатор поверх случайных признаков, сравните результаты."
      ]
    },
    {
      "cell_type": "markdown",
      "metadata": {
        "id": "-9E0IHXWSozT"
      },
      "source": [
        "Возьмем за baseline лог регрессию на всех данных с долей верных ответов $0.8574$. Функции, которые будем использовать:"
      ]
    },
    {
      "cell_type": "code",
      "metadata": {
        "id": "zDEf56R6giwr"
      },
      "source": [
        "@np.vectorize\r\n",
        "def identity(x):\r\n",
        "    return x\r\n",
        "\r\n",
        "@np.vectorize\r\n",
        "def ReLU(x):\r\n",
        "    if x > 0:\r\n",
        "        return x\r\n",
        "    else:\r\n",
        "        return 0\r\n",
        "\r\n",
        "@np.vectorize\r\n",
        "def f1(x):\r\n",
        "    return np.log(1 + np.abs(x)) * np.cos(x)\r\n",
        "\r\n",
        "@np.vectorize\r\n",
        "def f2(x):\r\n",
        "    z = np.cos(x)\r\n",
        "    return z + z ** 2\r\n",
        "\r\n",
        "@np.vectorize\r\n",
        "def f3(x):\r\n",
        "    return np.cos(x) + np.cos(2 * x)"
      ],
      "execution_count": null,
      "outputs": []
    },
    {
      "cell_type": "markdown",
      "metadata": {
        "id": "SwDJckuHgbXe"
      },
      "source": [
        "$f(x) = x$"
      ]
    },
    {
      "cell_type": "code",
      "metadata": {
        "colab": {
          "base_uri": "https://localhost:8080/"
        },
        "id": "q74jVrqnWUgF",
        "outputId": "b90c3332-e53a-4ade-e0db-32e653e91771"
      },
      "source": [
        "model = RFFPipeline(classifier='logreg', transform=identity)\r\n",
        "model.fit(x_train, y_train)\r\n",
        "preds = model.predict(x_test)\r\n",
        "accuracy_score(y_test, preds)"
      ],
      "execution_count": null,
      "outputs": [
        {
          "output_type": "execute_result",
          "data": {
            "text/plain": [
              "0.8221"
            ]
          },
          "metadata": {
            "tags": []
          },
          "execution_count": 38
        }
      ]
    },
    {
      "cell_type": "markdown",
      "metadata": {
        "id": "GyRbUwSEg7Di"
      },
      "source": [
        "$f(x)=\\max\\{0, x\\}$"
      ]
    },
    {
      "cell_type": "code",
      "metadata": {
        "id": "dWj-O2vjK-hY",
        "colab": {
          "base_uri": "https://localhost:8080/"
        },
        "outputId": "a9c02e0c-a4b4-487d-97ef-c861b86eb3d6"
      },
      "source": [
        "model = RFFPipeline(classifier='logreg', transform=ReLU)\r\n",
        "model.fit(x_train, y_train)\r\n",
        "preds = model.predict(x_test)\r\n",
        "accuracy_score(y_test, preds)"
      ],
      "execution_count": null,
      "outputs": [
        {
          "output_type": "execute_result",
          "data": {
            "text/plain": [
              "0.8322"
            ]
          },
          "metadata": {
            "tags": []
          },
          "execution_count": 39
        }
      ]
    },
    {
      "cell_type": "markdown",
      "metadata": {
        "id": "-Eemh-7vhCwp"
      },
      "source": [
        "Делаем вывод, что нелинейности (причем желательно сложные) все же помогают🙈 \r\n",
        "\r\n",
        "Дальше будут функции, которые дали лучшее качество.\r\n",
        "\r\n",
        "Что взять лучше косинуса? Можно как-то сделать его \"более разнообразным\". Например, с помощью \"тренда\":\r\n",
        "\r\n",
        "$f(x)=\\ln(1+|x|)\\cos(x)$"
      ]
    },
    {
      "cell_type": "code",
      "metadata": {
        "colab": {
          "base_uri": "https://localhost:8080/"
        },
        "id": "sFJ7HlUiWAU2",
        "outputId": "83802455-90d2-45a1-fbe7-3ce851f70f2a"
      },
      "source": [
        "model = RFFPipeline(classifier='logreg', transform=f1)\r\n",
        "model.fit(x_train, y_train)\r\n",
        "preds = model.predict(x_test)\r\n",
        "accuracy_score(y_test, preds)"
      ],
      "execution_count": null,
      "outputs": [
        {
          "output_type": "execute_result",
          "data": {
            "text/plain": [
              "0.8669"
            ]
          },
          "metadata": {
            "tags": []
          },
          "execution_count": 40
        }
      ]
    },
    {
      "cell_type": "markdown",
      "metadata": {
        "id": "MPh0IgFYiFc7"
      },
      "source": [
        "Или усложнив периодическую функцию:\r\n",
        "\r\n",
        "$f(x)=\\cos(x)+\\cos^2(x)$"
      ]
    },
    {
      "cell_type": "code",
      "metadata": {
        "colab": {
          "base_uri": "https://localhost:8080/"
        },
        "id": "d6e9hrzoW4s1",
        "outputId": "28a45a20-f7c2-4cdf-f31d-680476c1cfd9"
      },
      "source": [
        "model = RFFPipeline(classifier='logreg', transform=f2)\r\n",
        "model.fit(x_train, y_train)\r\n",
        "preds = model.predict(x_test)\r\n",
        "accuracy_score(y_test, preds)"
      ],
      "execution_count": null,
      "outputs": [
        {
          "output_type": "execute_result",
          "data": {
            "text/plain": [
              "0.8655"
            ]
          },
          "metadata": {
            "tags": []
          },
          "execution_count": 41
        }
      ]
    },
    {
      "cell_type": "markdown",
      "metadata": {
        "id": "T-smem9q0jaK"
      },
      "source": [
        "Другой способ усложнить периодическую функцию:\r\n",
        "\r\n",
        "$f(x)=\\cos(x)+\\cos(2x)$"
      ]
    },
    {
      "cell_type": "code",
      "metadata": {
        "colab": {
          "base_uri": "https://localhost:8080/"
        },
        "id": "rNYlP2KuuXub",
        "outputId": "0151b625-4bc1-436d-eeb2-12e9aa109a15"
      },
      "source": [
        "model = RFFPipeline(classifier='logreg', transform=f3)\r\n",
        "model.fit(x_train, y_train)\r\n",
        "preds = model.predict(x_test)\r\n",
        "accuracy_score(y_test, preds)"
      ],
      "execution_count": null,
      "outputs": [
        {
          "output_type": "execute_result",
          "data": {
            "text/plain": [
              "0.872"
            ]
          },
          "metadata": {
            "tags": []
          },
          "execution_count": 42
        }
      ]
    }
  ]
}