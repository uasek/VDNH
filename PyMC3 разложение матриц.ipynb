{
  "nbformat": 4,
  "nbformat_minor": 0,
  "metadata": {
    "colab": {
      "name": "Probabilistic Matrix Factorization for Making Personalized Recommendations.ipynb",
      "provenance": []
    },
    "kernelspec": {
      "name": "python3",
      "display_name": "Python 3"
    }
  },
  "cells": [
    {
      "cell_type": "markdown",
      "metadata": {
        "id": "R9sGWPNxIb8E"
      },
      "source": [
        "Создано под руководством [статьи](https://docs.pymc.io/notebooks/probabilistic_matrix_factorization.html) из примеров PyMC3."
      ]
    },
    {
      "cell_type": "code",
      "metadata": {
        "id": "ijx-0oxgbV5W"
      },
      "source": [
        "import numpy as np\r\n",
        "import pandas as pd\r\n",
        "import matplotlib.pyplot as plt\r\n",
        "plt.style.use('ggplot')"
      ],
      "execution_count": null,
      "outputs": []
    },
    {
      "cell_type": "code",
      "metadata": {
        "id": "Wa_l2zRxIKV9",
        "colab": {
          "base_uri": "https://localhost:8080/"
        },
        "outputId": "ad7e2e52-7de1-498f-9e7b-feb47f6285e2"
      },
      "source": [
        "from IPython.display import clear_output\r\n",
        "!pip install pymc3==3.9\r\n",
        "import pymc3 as pm\r\n",
        "if pm.__version__ == '3.9.0':\r\n",
        "    clear_output()\r\n",
        "    print('Ready to Bayes!')"
      ],
      "execution_count": null,
      "outputs": [
        {
          "output_type": "stream",
          "text": [
            "Ready to Bayes!\n"
          ],
          "name": "stdout"
        }
      ]
    },
    {
      "cell_type": "markdown",
      "metadata": {
        "id": "7TgVOt0CZsFK"
      },
      "source": [
        "# Задача"
      ]
    },
    {
      "cell_type": "markdown",
      "metadata": {
        "id": "UZyuWdCXLdXA"
      },
      "source": [
        "Обозначения:\r\n",
        "\r\n",
        "$M$ - число фильмов (items)\r\n",
        "\r\n",
        "$N$ - число пользователей (users)\r\n",
        "\r\n",
        "$D$ - число скрытых (latent) признаков, описывающих каждый фильм\r\n",
        "\r\n",
        "Матрицы:\r\n",
        "\r\n",
        "$U$ - матрица $N \\times D$ с признаковым описанием каждого фильма (ее строка - признаковое описание отдельного фильма)\r\n",
        "\r\n",
        "$V$ - матрица $M \\times D$ с описанием предпочтений пользователей (строка - как пользователь любит каждую из скрытых переменных)\r\n",
        "\r\n",
        "$R$ (ratings) - матрица $N \\times M$, где $R_{ij}$ - как пользователь $i$ любит фильм $j$\r\n",
        "\r\n",
        "Мы наблюдаем матрицу $R$, причем не целиком (не все пользователи поставили свои рейтинги).$R_{ij}=U_i*V_j$ - скалярное произведение.\r\n",
        "\r\n",
        "Задача - оценить матрицу $R=UV^T$. Обозначим ее оценку как $R^*$."
      ]
    },
    {
      "cell_type": "markdown",
      "metadata": {
        "id": "HiC6Dne2ZwYW"
      },
      "source": [
        "# Данные"
      ]
    },
    {
      "cell_type": "code",
      "metadata": {
        "colab": {
          "base_uri": "https://localhost:8080/",
          "height": 195
        },
        "id": "MMd_qYkdIpNl",
        "outputId": "1fd86848-5cc5-4190-c3f1-64f644f3da01"
      },
      "source": [
        "# user rating data\r\n",
        "data = pd.read_csv(pm.get_data(\"ml_100k_u.data\"), sep='\\t',\r\n",
        "                   names=[\"userid\", \"itemid\", \"rating\", \"timestamp\"])\r\n",
        "data.head()"
      ],
      "execution_count": null,
      "outputs": [
        {
          "output_type": "execute_result",
          "data": {
            "text/html": [
              "<div>\n",
              "<style scoped>\n",
              "    .dataframe tbody tr th:only-of-type {\n",
              "        vertical-align: middle;\n",
              "    }\n",
              "\n",
              "    .dataframe tbody tr th {\n",
              "        vertical-align: top;\n",
              "    }\n",
              "\n",
              "    .dataframe thead th {\n",
              "        text-align: right;\n",
              "    }\n",
              "</style>\n",
              "<table border=\"1\" class=\"dataframe\">\n",
              "  <thead>\n",
              "    <tr style=\"text-align: right;\">\n",
              "      <th></th>\n",
              "      <th>userid</th>\n",
              "      <th>itemid</th>\n",
              "      <th>rating</th>\n",
              "      <th>timestamp</th>\n",
              "    </tr>\n",
              "  </thead>\n",
              "  <tbody>\n",
              "    <tr>\n",
              "      <th>0</th>\n",
              "      <td>196</td>\n",
              "      <td>242</td>\n",
              "      <td>3</td>\n",
              "      <td>881250949</td>\n",
              "    </tr>\n",
              "    <tr>\n",
              "      <th>1</th>\n",
              "      <td>186</td>\n",
              "      <td>302</td>\n",
              "      <td>3</td>\n",
              "      <td>891717742</td>\n",
              "    </tr>\n",
              "    <tr>\n",
              "      <th>2</th>\n",
              "      <td>22</td>\n",
              "      <td>377</td>\n",
              "      <td>1</td>\n",
              "      <td>878887116</td>\n",
              "    </tr>\n",
              "    <tr>\n",
              "      <th>3</th>\n",
              "      <td>244</td>\n",
              "      <td>51</td>\n",
              "      <td>2</td>\n",
              "      <td>880606923</td>\n",
              "    </tr>\n",
              "    <tr>\n",
              "      <th>4</th>\n",
              "      <td>166</td>\n",
              "      <td>346</td>\n",
              "      <td>1</td>\n",
              "      <td>886397596</td>\n",
              "    </tr>\n",
              "  </tbody>\n",
              "</table>\n",
              "</div>"
            ],
            "text/plain": [
              "   userid  itemid  rating  timestamp\n",
              "0     196     242       3  881250949\n",
              "1     186     302       3  891717742\n",
              "2      22     377       1  878887116\n",
              "3     244      51       2  880606923\n",
              "4     166     346       1  886397596"
            ]
          },
          "metadata": {
            "tags": []
          },
          "execution_count": 3
        }
      ]
    },
    {
      "cell_type": "code",
      "metadata": {
        "colab": {
          "base_uri": "https://localhost:8080/",
          "height": 413
        },
        "id": "xvl0YRhCQvG_",
        "outputId": "64d305c0-384a-4ab6-9f1e-660f3095eb88"
      },
      "source": [
        "movie_columns  = ['movie id', 'movie title', 'release date', 'video release date', 'IMDb URL',\r\n",
        "                  'unknown','Action','Adventure', 'Animation',\"Children's\", 'Comedy', 'Crime',\r\n",
        "                  'Documentary', 'Drama', 'Fantasy', 'Film-Noir', 'Horror', 'Musical', 'Mystery',\r\n",
        "                  'Romance', 'Sci-Fi', 'Thriller', 'War', 'Western']\r\n",
        "\r\n",
        "movies = pd.read_csv(\r\n",
        "    pm.get_data(\"ml_100k_u.item\"),\r\n",
        "    sep=\"|\",\r\n",
        "    names=movie_columns,\r\n",
        "    index_col=\"movie id\",\r\n",
        "    parse_dates=[\"release date\"],\r\n",
        ")\r\n",
        "movies.head()"
      ],
      "execution_count": null,
      "outputs": [
        {
          "output_type": "execute_result",
          "data": {
            "text/html": [
              "<div>\n",
              "<style scoped>\n",
              "    .dataframe tbody tr th:only-of-type {\n",
              "        vertical-align: middle;\n",
              "    }\n",
              "\n",
              "    .dataframe tbody tr th {\n",
              "        vertical-align: top;\n",
              "    }\n",
              "\n",
              "    .dataframe thead th {\n",
              "        text-align: right;\n",
              "    }\n",
              "</style>\n",
              "<table border=\"1\" class=\"dataframe\">\n",
              "  <thead>\n",
              "    <tr style=\"text-align: right;\">\n",
              "      <th></th>\n",
              "      <th>movie title</th>\n",
              "      <th>release date</th>\n",
              "      <th>video release date</th>\n",
              "      <th>IMDb URL</th>\n",
              "      <th>unknown</th>\n",
              "      <th>Action</th>\n",
              "      <th>Adventure</th>\n",
              "      <th>Animation</th>\n",
              "      <th>Children's</th>\n",
              "      <th>Comedy</th>\n",
              "      <th>Crime</th>\n",
              "      <th>Documentary</th>\n",
              "      <th>Drama</th>\n",
              "      <th>Fantasy</th>\n",
              "      <th>Film-Noir</th>\n",
              "      <th>Horror</th>\n",
              "      <th>Musical</th>\n",
              "      <th>Mystery</th>\n",
              "      <th>Romance</th>\n",
              "      <th>Sci-Fi</th>\n",
              "      <th>Thriller</th>\n",
              "      <th>War</th>\n",
              "      <th>Western</th>\n",
              "    </tr>\n",
              "    <tr>\n",
              "      <th>movie id</th>\n",
              "      <th></th>\n",
              "      <th></th>\n",
              "      <th></th>\n",
              "      <th></th>\n",
              "      <th></th>\n",
              "      <th></th>\n",
              "      <th></th>\n",
              "      <th></th>\n",
              "      <th></th>\n",
              "      <th></th>\n",
              "      <th></th>\n",
              "      <th></th>\n",
              "      <th></th>\n",
              "      <th></th>\n",
              "      <th></th>\n",
              "      <th></th>\n",
              "      <th></th>\n",
              "      <th></th>\n",
              "      <th></th>\n",
              "      <th></th>\n",
              "      <th></th>\n",
              "      <th></th>\n",
              "      <th></th>\n",
              "    </tr>\n",
              "  </thead>\n",
              "  <tbody>\n",
              "    <tr>\n",
              "      <th>1</th>\n",
              "      <td>Toy Story (1995)</td>\n",
              "      <td>1995-01-01</td>\n",
              "      <td>NaN</td>\n",
              "      <td>http://us.imdb.com/M/title-exact?Toy%20Story%2...</td>\n",
              "      <td>0</td>\n",
              "      <td>0</td>\n",
              "      <td>0</td>\n",
              "      <td>1</td>\n",
              "      <td>1</td>\n",
              "      <td>1</td>\n",
              "      <td>0</td>\n",
              "      <td>0</td>\n",
              "      <td>0</td>\n",
              "      <td>0</td>\n",
              "      <td>0</td>\n",
              "      <td>0</td>\n",
              "      <td>0</td>\n",
              "      <td>0</td>\n",
              "      <td>0</td>\n",
              "      <td>0</td>\n",
              "      <td>0</td>\n",
              "      <td>0</td>\n",
              "      <td>0</td>\n",
              "    </tr>\n",
              "    <tr>\n",
              "      <th>2</th>\n",
              "      <td>GoldenEye (1995)</td>\n",
              "      <td>1995-01-01</td>\n",
              "      <td>NaN</td>\n",
              "      <td>http://us.imdb.com/M/title-exact?GoldenEye%20(...</td>\n",
              "      <td>0</td>\n",
              "      <td>1</td>\n",
              "      <td>1</td>\n",
              "      <td>0</td>\n",
              "      <td>0</td>\n",
              "      <td>0</td>\n",
              "      <td>0</td>\n",
              "      <td>0</td>\n",
              "      <td>0</td>\n",
              "      <td>0</td>\n",
              "      <td>0</td>\n",
              "      <td>0</td>\n",
              "      <td>0</td>\n",
              "      <td>0</td>\n",
              "      <td>0</td>\n",
              "      <td>0</td>\n",
              "      <td>1</td>\n",
              "      <td>0</td>\n",
              "      <td>0</td>\n",
              "    </tr>\n",
              "    <tr>\n",
              "      <th>3</th>\n",
              "      <td>Four Rooms (1995)</td>\n",
              "      <td>1995-01-01</td>\n",
              "      <td>NaN</td>\n",
              "      <td>http://us.imdb.com/M/title-exact?Four%20Rooms%...</td>\n",
              "      <td>0</td>\n",
              "      <td>0</td>\n",
              "      <td>0</td>\n",
              "      <td>0</td>\n",
              "      <td>0</td>\n",
              "      <td>0</td>\n",
              "      <td>0</td>\n",
              "      <td>0</td>\n",
              "      <td>0</td>\n",
              "      <td>0</td>\n",
              "      <td>0</td>\n",
              "      <td>0</td>\n",
              "      <td>0</td>\n",
              "      <td>0</td>\n",
              "      <td>0</td>\n",
              "      <td>0</td>\n",
              "      <td>1</td>\n",
              "      <td>0</td>\n",
              "      <td>0</td>\n",
              "    </tr>\n",
              "    <tr>\n",
              "      <th>4</th>\n",
              "      <td>Get Shorty (1995)</td>\n",
              "      <td>1995-01-01</td>\n",
              "      <td>NaN</td>\n",
              "      <td>http://us.imdb.com/M/title-exact?Get%20Shorty%...</td>\n",
              "      <td>0</td>\n",
              "      <td>1</td>\n",
              "      <td>0</td>\n",
              "      <td>0</td>\n",
              "      <td>0</td>\n",
              "      <td>1</td>\n",
              "      <td>0</td>\n",
              "      <td>0</td>\n",
              "      <td>1</td>\n",
              "      <td>0</td>\n",
              "      <td>0</td>\n",
              "      <td>0</td>\n",
              "      <td>0</td>\n",
              "      <td>0</td>\n",
              "      <td>0</td>\n",
              "      <td>0</td>\n",
              "      <td>0</td>\n",
              "      <td>0</td>\n",
              "      <td>0</td>\n",
              "    </tr>\n",
              "    <tr>\n",
              "      <th>5</th>\n",
              "      <td>Copycat (1995)</td>\n",
              "      <td>1995-01-01</td>\n",
              "      <td>NaN</td>\n",
              "      <td>http://us.imdb.com/M/title-exact?Copycat%20(1995)</td>\n",
              "      <td>0</td>\n",
              "      <td>0</td>\n",
              "      <td>0</td>\n",
              "      <td>0</td>\n",
              "      <td>0</td>\n",
              "      <td>0</td>\n",
              "      <td>1</td>\n",
              "      <td>0</td>\n",
              "      <td>1</td>\n",
              "      <td>0</td>\n",
              "      <td>0</td>\n",
              "      <td>0</td>\n",
              "      <td>0</td>\n",
              "      <td>0</td>\n",
              "      <td>0</td>\n",
              "      <td>0</td>\n",
              "      <td>1</td>\n",
              "      <td>0</td>\n",
              "      <td>0</td>\n",
              "    </tr>\n",
              "  </tbody>\n",
              "</table>\n",
              "</div>"
            ],
            "text/plain": [
              "                movie title release date  ...  War Western\n",
              "movie id                                  ...             \n",
              "1          Toy Story (1995)   1995-01-01  ...    0       0\n",
              "2          GoldenEye (1995)   1995-01-01  ...    0       0\n",
              "3         Four Rooms (1995)   1995-01-01  ...    0       0\n",
              "4         Get Shorty (1995)   1995-01-01  ...    0       0\n",
              "5            Copycat (1995)   1995-01-01  ...    0       0\n",
              "\n",
              "[5 rows x 23 columns]"
            ]
          },
          "metadata": {
            "tags": []
          },
          "execution_count": 4
        }
      ]
    },
    {
      "cell_type": "code",
      "metadata": {
        "colab": {
          "base_uri": "https://localhost:8080/",
          "height": 442
        },
        "id": "QnE6LeqAQ7nR",
        "outputId": "0b51eccb-8d19-444f-988b-eef576215977"
      },
      "source": [
        "ratings = data.rating\r\n",
        "data.groupby('rating').size().plot(kind='bar', figsize=[10, 7]);"
      ],
      "execution_count": null,
      "outputs": [
        {
          "output_type": "display_data",
          "data": {
            "image/png": "[encoded data removed]",
            "text/plain": [
              "<Figure size 720x504 with 1 Axes>"
            ]
          },
          "metadata": {
            "tags": []
          }
        }
      ]
    },
    {
      "cell_type": "code",
      "metadata": {
        "colab": {
          "base_uri": "https://localhost:8080/"
        },
        "id": "o35zgoKLRWFK",
        "outputId": "205e29cc-2582-495b-a264-dcb2bf26401e"
      },
      "source": [
        "data.rating.describe()"
      ],
      "execution_count": null,
      "outputs": [
        {
          "output_type": "execute_result",
          "data": {
            "text/plain": [
              "count    100000.000000\n",
              "mean          3.529860\n",
              "std           1.125674\n",
              "min           1.000000\n",
              "25%           3.000000\n",
              "50%           4.000000\n",
              "75%           4.000000\n",
              "max           5.000000\n",
              "Name: rating, dtype: float64"
            ]
          },
          "metadata": {
            "tags": []
          },
          "execution_count": 9
        }
      ]
    },
    {
      "cell_type": "markdown",
      "metadata": {
        "id": "ussJ8f9aRl67"
      },
      "source": [
        "Теперь посмотрим на средние рейтинги по фильмам:"
      ]
    },
    {
      "cell_type": "code",
      "metadata": {
        "colab": {
          "base_uri": "https://localhost:8080/",
          "height": 678
        },
        "id": "ytvBkOvxRalG",
        "outputId": "344885d0-8948-4807-eca1-b3a378ed4ee6"
      },
      "source": [
        "movie_means = data.join(movies['movie title'], on='itemid').groupby('movie title').rating.mean()\r\n",
        "movie_means[:50].plot(\r\n",
        "    kind='bar',\r\n",
        "    figsize = (16, 6),\r\n",
        "    grid=False,\r\n",
        "    title='Mean ratings of 50 movies',\r\n",
        "    color='C1'\r\n",
        "    );"
      ],
      "execution_count": null,
      "outputs": [
        {
          "output_type": "display_data",
          "data": {
            "image/png": "[encoded data removed]",
            "text/plain": [
              "<Figure size 1152x432 with 1 Axes>"
            ]
          },
          "metadata": {
            "tags": [],
            "needs_background": "light"
          }
        }
      ]
    },
    {
      "cell_type": "code",
      "metadata": {
        "colab": {
          "base_uri": "https://localhost:8080/",
          "height": 578
        },
        "id": "Xckn5qaJTdWB",
        "outputId": "4c80cc1d-8554-4f93-a826-755520d2ea08"
      },
      "source": [
        "# у большинства - средние рейтинги, посмотрим на худшие и лучшие фильмы\r\n",
        "fig, ax = plt.subplots(1, 2, figsize=[16, 4], sharey=True)\r\n",
        "kwargs = {\r\n",
        "    'kind' : 'bar',\r\n",
        "    'grid' : False,\r\n",
        "}\r\n",
        "movie_means.sort_values()[:30].plot(ax=ax[0],\r\n",
        "                                    title='30 worst movies in the dataset',\r\n",
        "                                    color='C2',\r\n",
        "                                    **kwargs)\r\n",
        "movie_means.sort_values()[-30:].plot(ax=ax[1],\r\n",
        "                                     title='30 best movies in the dataset',\r\n",
        "                                     color='C3',\r\n",
        "                                     **kwargs);"
      ],
      "execution_count": null,
      "outputs": [
        {
          "output_type": "display_data",
          "data": {
            "image/png": "[encoded data removed]",
            "text/plain": [
              "<Figure size 1152x288 with 2 Axes>"
            ]
          },
          "metadata": {
            "tags": [],
            "needs_background": "light"
          }
        }
      ]
    },
    {
      "cell_type": "code",
      "metadata": {
        "id": "wYVslAWSYtJ5"
      },
      "source": [
        "# итак, есть разница по оценкам среди фильмов, посмотрим на разницу среди пользователей\r\n",
        "mean_ascending = data.groupby('userid').mean()['rating'].sort_values()\r\n",
        "t = np.arange(len(mean_ascending)) + 1"
      ],
      "execution_count": null,
      "outputs": []
    },
    {
      "cell_type": "code",
      "metadata": {
        "id": "mR6KlXeTVznR",
        "colab": {
          "base_uri": "https://localhost:8080/",
          "height": 357
        },
        "outputId": "9df71905-8d06-4cac-db24-9c998da307fa"
      },
      "source": [
        "fig, ax = plt.subplots(figsize=[10, 3], dpi=120)\r\n",
        "\r\n",
        "ax.plot(t, mean_ascending, color='C4')\r\n",
        "ax.fill_between(t, mean_ascending, alpha=0.2,  color='C4')\r\n",
        "ax.set(xlabel='users', ylabel='mean rating', xlim=(1, 943), ylim=(1, 5),\r\n",
        "       xticklabels='', yticks=np.arange(1, 6));"
      ],
      "execution_count": null,
      "outputs": [
        {
          "output_type": "display_data",
          "data": {
            "image/png": "[encoded data removed]",
            "text/plain": [
              "<Figure size 1200x360 with 1 Axes>"
            ]
          },
          "metadata": {
            "tags": [],
            "needs_background": "light"
          }
        }
      ]
    },
    {
      "cell_type": "markdown",
      "metadata": {
        "id": "Zj6qu5jVZzgC"
      },
      "source": [
        "# Методы"
      ]
    },
    {
      "cell_type": "markdown",
      "metadata": {
        "id": "lWPR3XtFaLni"
      },
      "source": [
        "# Baselines"
      ]
    },
    {
      "cell_type": "code",
      "metadata": {
        "colab": {
          "base_uri": "https://localhost:8080/",
          "height": 35
        },
        "id": "xDcQwLQ9dQiH",
        "outputId": "2ce03c47-6d20-445c-a665-c6fe78c29a30"
      },
      "source": [
        "# небольшой костыль в метот __str__\r\n",
        "def split_title(title):\r\n",
        "    \"\"\"Change \"BaselineMethod\" to \"Baseline Method\".\"\"\"\r\n",
        "    words = []\r\n",
        "    tmp = [title[0]]\r\n",
        "    for c in title[1:]:\r\n",
        "        if c.isupper():\r\n",
        "            words.append(''.join(tmp))\r\n",
        "            tmp = [c]\r\n",
        "        else:\r\n",
        "            tmp.append(c)\r\n",
        "    words.append(''.join(tmp))\r\n",
        "    return ' '.join(words)\r\n",
        "\r\n",
        "split_title('HelloHowAreYou')"
      ],
      "execution_count": null,
      "outputs": [
        {
          "output_type": "execute_result",
          "data": {
            "application/vnd.google.colaboratory.intrinsic+json": {
              "type": "string"
            },
            "text/plain": [
              "'Hello How Are You'"
            ]
          },
          "metadata": {
            "tags": []
          },
          "execution_count": 5
        }
      ]
    },
    {
      "cell_type": "code",
      "metadata": {
        "id": "5W_69JQcX2pm"
      },
      "source": [
        "# спасибо, 3 класс иада, что теперь я не боюсь классов\r\n",
        "# попробуй потом str(...)\r\n",
        "class Baseline:\r\n",
        "    \"Calculate baseline predictions.\"\r\n",
        "\r\n",
        "    def __init__(self, train_data):\r\n",
        "        \"\"\"Simple heuristic-based transductive learning to fill in missing\r\n",
        "        values in data matrix.\"\"\"\r\n",
        "        self.predict(train_data.copy())\r\n",
        "\r\n",
        "    def predict(self, train_data):\r\n",
        "        raise NotImplementedError(\"baseline prediction not implemented for base class\")\r\n",
        "\r\n",
        "    def rmse(self, test_data):\r\n",
        "        return rmse(test_data, self.predicted)\r\n",
        "\r\n",
        "    def __str__(self):\r\n",
        "        return split_title(self.__class__.__name__)"
      ],
      "execution_count": null,
      "outputs": []
    },
    {
      "cell_type": "markdown",
      "metadata": {
        "id": "8d-M5KvihlVJ"
      },
      "source": [
        "Дальше происходит небольшая магия с masked arrays, снизу простой пример:\r\n",
        "![masked_array_illustration.jpg](data:image/jpeg;base64,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)"
      ]
    },
    {
      "cell_type": "code",
      "metadata": {
        "id": "VlSyte4ofX6O"
      },
      "source": [
        "class UniformRandomBaseline(Baseline):\r\n",
        "    \"\"\"Забиваем пропуски рандомом\"\"\"\r\n",
        "\r\n",
        "    def predict(self, train_data):\r\n",
        "        nan_mask = np.isnan(train_data)\r\n",
        "        masked_train = np.ma.masked_array(train_data, nan_mask)\r\n",
        "        pmin, pmax = masked_train.min(), masked_train.max()\r\n",
        "        N = nan_mask.sum()  # сколько всего пропущенных значений\r\n",
        "        train_data[nan_mask] = np.random.uniform(pmin, pmax, N)\r\n",
        "        self.predicted = train_data"
      ],
      "execution_count": null,
      "outputs": []
    },
    {
      "cell_type": "code",
      "metadata": {
        "id": "CqMYrom4ix9U"
      },
      "source": [
        "class GlobalMeanBaseline(Baseline):\r\n",
        "    \"\"\"Забиваем пропуски средним по всем рейтингам\"\"\"\r\n",
        "\r\n",
        "    def predict(self, train_data):\r\n",
        "        nan_mask = np.isnan(train_data)\r\n",
        "        train_data[nan_mask] = train_data[~nan_mask].mean()\r\n",
        "        self.predicted = train_data"
      ],
      "execution_count": null,
      "outputs": []
    },
    {
      "cell_type": "code",
      "metadata": {
        "id": "FMBZieRHjX8s"
      },
      "source": [
        "class MeanOfMeansBaseline(Baseline):\r\n",
        "    \"\"\" 1/3 (средний рейтинг фильма + средний рейтинг пользователя + глобальный средний рейтинг)\"\"\"\r\n",
        "\r\n",
        "    def predict(self, train_data):\r\n",
        "        nan_mask = np.isnan(train_data)\r\n",
        "        masked_train = np.ma.masked_array(train_data, nan_mask)\r\n",
        "        movie_means = masked_train.mean(0)\r\n",
        "        user_means = masked_train.mean(1).reshape(-1, 1)\r\n",
        "        global_mean = masked_train.mean()\r\n",
        "        mean_substitutes = (movie_means + user_means + global_mean) / 3\r\n",
        "        self.predicted = np.nan_to_num(train_data, copy=True, nan=0) + mean_substitutes * nan_mask"
      ],
      "execution_count": null,
      "outputs": []
    },
    {
      "cell_type": "code",
      "metadata": {
        "id": "dcL2f4IJo9ol"
      },
      "source": [
        "UniformRandomBaseline?"
      ],
      "execution_count": null,
      "outputs": []
    },
    {
      "cell_type": "code",
      "metadata": {
        "id": "T3HX5hd1leoC"
      },
      "source": [
        "baseline_methods = {}\r\n",
        "baseline_methods[\"ur\"] = UniformRandomBaseline\r\n",
        "baseline_methods[\"gm\"] = GlobalMeanBaseline\r\n",
        "baseline_methods[\"mom\"] = MeanOfMeansBaseline"
      ],
      "execution_count": null,
      "outputs": []
    },
    {
      "cell_type": "markdown",
      "metadata": {
        "id": "KGK46CUpuAjU"
      },
      "source": [
        "Матрица $R$ (c пропусками, потому что не каждый пользователь оценил каждый фильм):"
      ]
    },
    {
      "cell_type": "code",
      "metadata": {
        "id": "NkThwcVHllVH"
      },
      "source": [
        "dense_data = data.pivot(index=\"userid\", columns=\"itemid\", values=\"rating\")"
      ],
      "execution_count": null,
      "outputs": []
    },
    {
      "cell_type": "code",
      "metadata": {
        "colab": {
          "base_uri": "https://localhost:8080/",
          "height": 451
        },
        "id": "YRXWjklut7A7",
        "outputId": "81b75acc-7162-4469-cddf-e74b84dc8f77"
      },
      "source": [
        "dense_data"
      ],
      "execution_count": null,
      "outputs": [
        {
          "output_type": "execute_result",
          "data": {
            "text/html": [
              "<div>\n",
              "<style scoped>\n",
              "    .dataframe tbody tr th:only-of-type {\n",
              "        vertical-align: middle;\n",
              "    }\n",
              "\n",
              "    .dataframe tbody tr th {\n",
              "        vertical-align: top;\n",
              "    }\n",
              "\n",
              "    .dataframe thead th {\n",
              "        text-align: right;\n",
              "    }\n",
              "</style>\n",
              "<table border=\"1\" class=\"dataframe\">\n",
              "  <thead>\n",
              "    <tr style=\"text-align: right;\">\n",
              "      <th>itemid</th>\n",
              "      <th>1</th>\n",
              "      <th>2</th>\n",
              "      <th>3</th>\n",
              "      <th>4</th>\n",
              "      <th>5</th>\n",
              "      <th>6</th>\n",
              "      <th>7</th>\n",
              "      <th>8</th>\n",
              "      <th>9</th>\n",
              "      <th>10</th>\n",
              "      <th>11</th>\n",
              "      <th>12</th>\n",
              "      <th>13</th>\n",
              "      <th>14</th>\n",
              "      <th>15</th>\n",
              "      <th>16</th>\n",
              "      <th>17</th>\n",
              "      <th>18</th>\n",
              "      <th>19</th>\n",
              "      <th>20</th>\n",
              "      <th>21</th>\n",
              "      <th>22</th>\n",
              "      <th>23</th>\n",
              "      <th>24</th>\n",
              "      <th>25</th>\n",
              "      <th>26</th>\n",
              "      <th>27</th>\n",
              "      <th>28</th>\n",
              "      <th>29</th>\n",
              "      <th>30</th>\n",
              "      <th>31</th>\n",
              "      <th>32</th>\n",
              "      <th>33</th>\n",
              "      <th>34</th>\n",
              "      <th>35</th>\n",
              "      <th>36</th>\n",
              "      <th>37</th>\n",
              "      <th>38</th>\n",
              "      <th>39</th>\n",
              "      <th>40</th>\n",
              "      <th>...</th>\n",
              "      <th>1643</th>\n",
              "      <th>1644</th>\n",
              "      <th>1645</th>\n",
              "      <th>1646</th>\n",
              "      <th>1647</th>\n",
              "      <th>1648</th>\n",
              "      <th>1649</th>\n",
              "      <th>1650</th>\n",
              "      <th>1651</th>\n",
              "      <th>1652</th>\n",
              "      <th>1653</th>\n",
              "      <th>1654</th>\n",
              "      <th>1655</th>\n",
              "      <th>1656</th>\n",
              "      <th>1657</th>\n",
              "      <th>1658</th>\n",
              "      <th>1659</th>\n",
              "      <th>1660</th>\n",
              "      <th>1661</th>\n",
              "      <th>1662</th>\n",
              "      <th>1663</th>\n",
              "      <th>1664</th>\n",
              "      <th>1665</th>\n",
              "      <th>1666</th>\n",
              "      <th>1667</th>\n",
              "      <th>1668</th>\n",
              "      <th>1669</th>\n",
              "      <th>1670</th>\n",
              "      <th>1671</th>\n",
              "      <th>1672</th>\n",
              "      <th>1673</th>\n",
              "      <th>1674</th>\n",
              "      <th>1675</th>\n",
              "      <th>1676</th>\n",
              "      <th>1677</th>\n",
              "      <th>1678</th>\n",
              "      <th>1679</th>\n",
              "      <th>1680</th>\n",
              "      <th>1681</th>\n",
              "      <th>1682</th>\n",
              "    </tr>\n",
              "    <tr>\n",
              "      <th>userid</th>\n",
              "      <th></th>\n",
              "      <th></th>\n",
              "      <th></th>\n",
              "      <th></th>\n",
              "      <th></th>\n",
              "      <th></th>\n",
              "      <th></th>\n",
              "      <th></th>\n",
              "      <th></th>\n",
              "      <th></th>\n",
              "      <th></th>\n",
              "      <th></th>\n",
              "      <th></th>\n",
              "      <th></th>\n",
              "      <th></th>\n",
              "      <th></th>\n",
              "      <th></th>\n",
              "      <th></th>\n",
              "      <th></th>\n",
              "      <th></th>\n",
              "      <th></th>\n",
              "      <th></th>\n",
              "      <th></th>\n",
              "      <th></th>\n",
              "      <th></th>\n",
              "      <th></th>\n",
              "      <th></th>\n",
              "      <th></th>\n",
              "      <th></th>\n",
              "      <th></th>\n",
              "      <th></th>\n",
              "      <th></th>\n",
              "      <th></th>\n",
              "      <th></th>\n",
              "      <th></th>\n",
              "      <th></th>\n",
              "      <th></th>\n",
              "      <th></th>\n",
              "      <th></th>\n",
              "      <th></th>\n",
              "      <th></th>\n",
              "      <th></th>\n",
              "      <th></th>\n",
              "      <th></th>\n",
              "      <th></th>\n",
              "      <th></th>\n",
              "      <th></th>\n",
              "      <th></th>\n",
              "      <th></th>\n",
              "      <th></th>\n",
              "      <th></th>\n",
              "      <th></th>\n",
              "      <th></th>\n",
              "      <th></th>\n",
              "      <th></th>\n",
              "      <th></th>\n",
              "      <th></th>\n",
              "      <th></th>\n",
              "      <th></th>\n",
              "      <th></th>\n",
              "      <th></th>\n",
              "      <th></th>\n",
              "      <th></th>\n",
              "      <th></th>\n",
              "      <th></th>\n",
              "      <th></th>\n",
              "      <th></th>\n",
              "      <th></th>\n",
              "      <th></th>\n",
              "      <th></th>\n",
              "      <th></th>\n",
              "      <th></th>\n",
              "      <th></th>\n",
              "      <th></th>\n",
              "      <th></th>\n",
              "      <th></th>\n",
              "      <th></th>\n",
              "      <th></th>\n",
              "      <th></th>\n",
              "      <th></th>\n",
              "      <th></th>\n",
              "    </tr>\n",
              "  </thead>\n",
              "  <tbody>\n",
              "    <tr>\n",
              "      <th>1</th>\n",
              "      <td>5.0</td>\n",
              "      <td>3.0</td>\n",
              "      <td>4.0</td>\n",
              "      <td>3.0</td>\n",
              "      <td>3.0</td>\n",
              "      <td>5.0</td>\n",
              "      <td>4.0</td>\n",
              "      <td>1.0</td>\n",
              "      <td>5.0</td>\n",
              "      <td>3.0</td>\n",
              "      <td>2.0</td>\n",
              "      <td>5.0</td>\n",
              "      <td>5.0</td>\n",
              "      <td>5.0</td>\n",
              "      <td>5.0</td>\n",
              "      <td>5.0</td>\n",
              "      <td>3.0</td>\n",
              "      <td>4.0</td>\n",
              "      <td>5.0</td>\n",
              "      <td>4.0</td>\n",
              "      <td>1.0</td>\n",
              "      <td>4.0</td>\n",
              "      <td>4.0</td>\n",
              "      <td>3.0</td>\n",
              "      <td>4.0</td>\n",
              "      <td>3.0</td>\n",
              "      <td>2.0</td>\n",
              "      <td>4.0</td>\n",
              "      <td>1.0</td>\n",
              "      <td>3.0</td>\n",
              "      <td>3.0</td>\n",
              "      <td>5.0</td>\n",
              "      <td>4.0</td>\n",
              "      <td>2.0</td>\n",
              "      <td>1.0</td>\n",
              "      <td>2.0</td>\n",
              "      <td>2.0</td>\n",
              "      <td>3.0</td>\n",
              "      <td>4.0</td>\n",
              "      <td>3.0</td>\n",
              "      <td>...</td>\n",
              "      <td>NaN</td>\n",
              "      <td>NaN</td>\n",
              "      <td>NaN</td>\n",
              "      <td>NaN</td>\n",
              "      <td>NaN</td>\n",
              "      <td>NaN</td>\n",
              "      <td>NaN</td>\n",
              "      <td>NaN</td>\n",
              "      <td>NaN</td>\n",
              "      <td>NaN</td>\n",
              "      <td>NaN</td>\n",
              "      <td>NaN</td>\n",
              "      <td>NaN</td>\n",
              "      <td>NaN</td>\n",
              "      <td>NaN</td>\n",
              "      <td>NaN</td>\n",
              "      <td>NaN</td>\n",
              "      <td>NaN</td>\n",
              "      <td>NaN</td>\n",
              "      <td>NaN</td>\n",
              "      <td>NaN</td>\n",
              "      <td>NaN</td>\n",
              "      <td>NaN</td>\n",
              "      <td>NaN</td>\n",
              "      <td>NaN</td>\n",
              "      <td>NaN</td>\n",
              "      <td>NaN</td>\n",
              "      <td>NaN</td>\n",
              "      <td>NaN</td>\n",
              "      <td>NaN</td>\n",
              "      <td>NaN</td>\n",
              "      <td>NaN</td>\n",
              "      <td>NaN</td>\n",
              "      <td>NaN</td>\n",
              "      <td>NaN</td>\n",
              "      <td>NaN</td>\n",
              "      <td>NaN</td>\n",
              "      <td>NaN</td>\n",
              "      <td>NaN</td>\n",
              "      <td>NaN</td>\n",
              "    </tr>\n",
              "    <tr>\n",
              "      <th>2</th>\n",
              "      <td>4.0</td>\n",
              "      <td>NaN</td>\n",
              "      <td>NaN</td>\n",
              "      <td>NaN</td>\n",
              "      <td>NaN</td>\n",
              "      <td>NaN</td>\n",
              "      <td>NaN</td>\n",
              "      <td>NaN</td>\n",
              "      <td>NaN</td>\n",
              "      <td>2.0</td>\n",
              "      <td>NaN</td>\n",
              "      <td>NaN</td>\n",
              "      <td>4.0</td>\n",
              "      <td>4.0</td>\n",
              "      <td>NaN</td>\n",
              "      <td>NaN</td>\n",
              "      <td>NaN</td>\n",
              "      <td>NaN</td>\n",
              "      <td>3.0</td>\n",
              "      <td>NaN</td>\n",
              "      <td>NaN</td>\n",
              "      <td>NaN</td>\n",
              "      <td>NaN</td>\n",
              "      <td>NaN</td>\n",
              "      <td>4.0</td>\n",
              "      <td>NaN</td>\n",
              "      <td>NaN</td>\n",
              "      <td>NaN</td>\n",
              "      <td>NaN</td>\n",
              "      <td>NaN</td>\n",
              "      <td>NaN</td>\n",
              "      <td>NaN</td>\n",
              "      <td>NaN</td>\n",
              "      <td>NaN</td>\n",
              "      <td>NaN</td>\n",
              "      <td>NaN</td>\n",
              "      <td>NaN</td>\n",
              "      <td>NaN</td>\n",
              "      <td>NaN</td>\n",
              "      <td>NaN</td>\n",
              "      <td>...</td>\n",
              "      <td>NaN</td>\n",
              "      <td>NaN</td>\n",
              "      <td>NaN</td>\n",
              "      <td>NaN</td>\n",
              "      <td>NaN</td>\n",
              "      <td>NaN</td>\n",
              "      <td>NaN</td>\n",
              "      <td>NaN</td>\n",
              "      <td>NaN</td>\n",
              "      <td>NaN</td>\n",
              "      <td>NaN</td>\n",
              "      <td>NaN</td>\n",
              "      <td>NaN</td>\n",
              "      <td>NaN</td>\n",
              "      <td>NaN</td>\n",
              "      <td>NaN</td>\n",
              "      <td>NaN</td>\n",
              "      <td>NaN</td>\n",
              "      <td>NaN</td>\n",
              "      <td>NaN</td>\n",
              "      <td>NaN</td>\n",
              "      <td>NaN</td>\n",
              "      <td>NaN</td>\n",
              "      <td>NaN</td>\n",
              "      <td>NaN</td>\n",
              "      <td>NaN</td>\n",
              "      <td>NaN</td>\n",
              "      <td>NaN</td>\n",
              "      <td>NaN</td>\n",
              "      <td>NaN</td>\n",
              "      <td>NaN</td>\n",
              "      <td>NaN</td>\n",
              "      <td>NaN</td>\n",
              "      <td>NaN</td>\n",
              "      <td>NaN</td>\n",
              "      <td>NaN</td>\n",
              "      <td>NaN</td>\n",
              "      <td>NaN</td>\n",
              "      <td>NaN</td>\n",
              "      <td>NaN</td>\n",
              "    </tr>\n",
              "    <tr>\n",
              "      <th>3</th>\n",
              "      <td>NaN</td>\n",
              "      <td>NaN</td>\n",
              "      <td>NaN</td>\n",
              "      <td>NaN</td>\n",
              "      <td>NaN</td>\n",
              "      <td>NaN</td>\n",
              "      <td>NaN</td>\n",
              "      <td>NaN</td>\n",
              "      <td>NaN</td>\n",
              "      <td>NaN</td>\n",
              "      <td>NaN</td>\n",
              "      <td>NaN</td>\n",
              "      <td>NaN</td>\n",
              "      <td>NaN</td>\n",
              "      <td>NaN</td>\n",
              "      <td>NaN</td>\n",
              "      <td>NaN</td>\n",
              "      <td>NaN</td>\n",
              "      <td>NaN</td>\n",
              "      <td>NaN</td>\n",
              "      <td>NaN</td>\n",
              "      <td>NaN</td>\n",
              "      <td>NaN</td>\n",
              "      <td>NaN</td>\n",
              "      <td>NaN</td>\n",
              "      <td>NaN</td>\n",
              "      <td>NaN</td>\n",
              "      <td>NaN</td>\n",
              "      <td>NaN</td>\n",
              "      <td>NaN</td>\n",
              "      <td>NaN</td>\n",
              "      <td>NaN</td>\n",
              "      <td>NaN</td>\n",
              "      <td>NaN</td>\n",
              "      <td>NaN</td>\n",
              "      <td>NaN</td>\n",
              "      <td>NaN</td>\n",
              "      <td>NaN</td>\n",
              "      <td>NaN</td>\n",
              "      <td>NaN</td>\n",
              "      <td>...</td>\n",
              "      <td>NaN</td>\n",
              "      <td>NaN</td>\n",
              "      <td>NaN</td>\n",
              "      <td>NaN</td>\n",
              "      <td>NaN</td>\n",
              "      <td>NaN</td>\n",
              "      <td>NaN</td>\n",
              "      <td>NaN</td>\n",
              "      <td>NaN</td>\n",
              "      <td>NaN</td>\n",
              "      <td>NaN</td>\n",
              "      <td>NaN</td>\n",
              "      <td>NaN</td>\n",
              "      <td>NaN</td>\n",
              "      <td>NaN</td>\n",
              "      <td>NaN</td>\n",
              "      <td>NaN</td>\n",
              "      <td>NaN</td>\n",
              "      <td>NaN</td>\n",
              "      <td>NaN</td>\n",
              "      <td>NaN</td>\n",
              "      <td>NaN</td>\n",
              "      <td>NaN</td>\n",
              "      <td>NaN</td>\n",
              "      <td>NaN</td>\n",
              "      <td>NaN</td>\n",
              "      <td>NaN</td>\n",
              "      <td>NaN</td>\n",
              "      <td>NaN</td>\n",
              "      <td>NaN</td>\n",
              "      <td>NaN</td>\n",
              "      <td>NaN</td>\n",
              "      <td>NaN</td>\n",
              "      <td>NaN</td>\n",
              "      <td>NaN</td>\n",
              "      <td>NaN</td>\n",
              "      <td>NaN</td>\n",
              "      <td>NaN</td>\n",
              "      <td>NaN</td>\n",
              "      <td>NaN</td>\n",
              "    </tr>\n",
              "    <tr>\n",
              "      <th>4</th>\n",
              "      <td>NaN</td>\n",
              "      <td>NaN</td>\n",
              "      <td>NaN</td>\n",
              "      <td>NaN</td>\n",
              "      <td>NaN</td>\n",
              "      <td>NaN</td>\n",
              "      <td>NaN</td>\n",
              "      <td>NaN</td>\n",
              "      <td>NaN</td>\n",
              "      <td>NaN</td>\n",
              "      <td>4.0</td>\n",
              "      <td>NaN</td>\n",
              "      <td>NaN</td>\n",
              "      <td>NaN</td>\n",
              "      <td>NaN</td>\n",
              "      <td>NaN</td>\n",
              "      <td>NaN</td>\n",
              "      <td>NaN</td>\n",
              "      <td>NaN</td>\n",
              "      <td>NaN</td>\n",
              "      <td>NaN</td>\n",
              "      <td>NaN</td>\n",
              "      <td>NaN</td>\n",
              "      <td>NaN</td>\n",
              "      <td>NaN</td>\n",
              "      <td>NaN</td>\n",
              "      <td>NaN</td>\n",
              "      <td>NaN</td>\n",
              "      <td>NaN</td>\n",
              "      <td>NaN</td>\n",
              "      <td>NaN</td>\n",
              "      <td>NaN</td>\n",
              "      <td>NaN</td>\n",
              "      <td>NaN</td>\n",
              "      <td>NaN</td>\n",
              "      <td>NaN</td>\n",
              "      <td>NaN</td>\n",
              "      <td>NaN</td>\n",
              "      <td>NaN</td>\n",
              "      <td>NaN</td>\n",
              "      <td>...</td>\n",
              "      <td>NaN</td>\n",
              "      <td>NaN</td>\n",
              "      <td>NaN</td>\n",
              "      <td>NaN</td>\n",
              "      <td>NaN</td>\n",
              "      <td>NaN</td>\n",
              "      <td>NaN</td>\n",
              "      <td>NaN</td>\n",
              "      <td>NaN</td>\n",
              "      <td>NaN</td>\n",
              "      <td>NaN</td>\n",
              "      <td>NaN</td>\n",
              "      <td>NaN</td>\n",
              "      <td>NaN</td>\n",
              "      <td>NaN</td>\n",
              "      <td>NaN</td>\n",
              "      <td>NaN</td>\n",
              "      <td>NaN</td>\n",
              "      <td>NaN</td>\n",
              "      <td>NaN</td>\n",
              "      <td>NaN</td>\n",
              "      <td>NaN</td>\n",
              "      <td>NaN</td>\n",
              "      <td>NaN</td>\n",
              "      <td>NaN</td>\n",
              "      <td>NaN</td>\n",
              "      <td>NaN</td>\n",
              "      <td>NaN</td>\n",
              "      <td>NaN</td>\n",
              "      <td>NaN</td>\n",
              "      <td>NaN</td>\n",
              "      <td>NaN</td>\n",
              "      <td>NaN</td>\n",
              "      <td>NaN</td>\n",
              "      <td>NaN</td>\n",
              "      <td>NaN</td>\n",
              "      <td>NaN</td>\n",
              "      <td>NaN</td>\n",
              "      <td>NaN</td>\n",
              "      <td>NaN</td>\n",
              "    </tr>\n",
              "    <tr>\n",
              "      <th>5</th>\n",
              "      <td>4.0</td>\n",
              "      <td>3.0</td>\n",
              "      <td>NaN</td>\n",
              "      <td>NaN</td>\n",
              "      <td>NaN</td>\n",
              "      <td>NaN</td>\n",
              "      <td>NaN</td>\n",
              "      <td>NaN</td>\n",
              "      <td>NaN</td>\n",
              "      <td>NaN</td>\n",
              "      <td>NaN</td>\n",
              "      <td>NaN</td>\n",
              "      <td>NaN</td>\n",
              "      <td>NaN</td>\n",
              "      <td>NaN</td>\n",
              "      <td>NaN</td>\n",
              "      <td>4.0</td>\n",
              "      <td>NaN</td>\n",
              "      <td>NaN</td>\n",
              "      <td>NaN</td>\n",
              "      <td>3.0</td>\n",
              "      <td>NaN</td>\n",
              "      <td>NaN</td>\n",
              "      <td>4.0</td>\n",
              "      <td>3.0</td>\n",
              "      <td>NaN</td>\n",
              "      <td>NaN</td>\n",
              "      <td>NaN</td>\n",
              "      <td>4.0</td>\n",
              "      <td>NaN</td>\n",
              "      <td>NaN</td>\n",
              "      <td>NaN</td>\n",
              "      <td>NaN</td>\n",
              "      <td>NaN</td>\n",
              "      <td>NaN</td>\n",
              "      <td>NaN</td>\n",
              "      <td>NaN</td>\n",
              "      <td>NaN</td>\n",
              "      <td>NaN</td>\n",
              "      <td>4.0</td>\n",
              "      <td>...</td>\n",
              "      <td>NaN</td>\n",
              "      <td>NaN</td>\n",
              "      <td>NaN</td>\n",
              "      <td>NaN</td>\n",
              "      <td>NaN</td>\n",
              "      <td>NaN</td>\n",
              "      <td>NaN</td>\n",
              "      <td>NaN</td>\n",
              "      <td>NaN</td>\n",
              "      <td>NaN</td>\n",
              "      <td>NaN</td>\n",
              "      <td>NaN</td>\n",
              "      <td>NaN</td>\n",
              "      <td>NaN</td>\n",
              "      <td>NaN</td>\n",
              "      <td>NaN</td>\n",
              "      <td>NaN</td>\n",
              "      <td>NaN</td>\n",
              "      <td>NaN</td>\n",
              "      <td>NaN</td>\n",
              "      <td>NaN</td>\n",
              "      <td>NaN</td>\n",
              "      <td>NaN</td>\n",
              "      <td>NaN</td>\n",
              "      <td>NaN</td>\n",
              "      <td>NaN</td>\n",
              "      <td>NaN</td>\n",
              "      <td>NaN</td>\n",
              "      <td>NaN</td>\n",
              "      <td>NaN</td>\n",
              "      <td>NaN</td>\n",
              "      <td>NaN</td>\n",
              "      <td>NaN</td>\n",
              "      <td>NaN</td>\n",
              "      <td>NaN</td>\n",
              "      <td>NaN</td>\n",
              "      <td>NaN</td>\n",
              "      <td>NaN</td>\n",
              "      <td>NaN</td>\n",
              "      <td>NaN</td>\n",
              "    </tr>\n",
              "    <tr>\n",
              "      <th>...</th>\n",
              "      <td>...</td>\n",
              "      <td>...</td>\n",
              "      <td>...</td>\n",
              "      <td>...</td>\n",
              "      <td>...</td>\n",
              "      <td>...</td>\n",
              "      <td>...</td>\n",
              "      <td>...</td>\n",
              "      <td>...</td>\n",
              "      <td>...</td>\n",
              "      <td>...</td>\n",
              "      <td>...</td>\n",
              "      <td>...</td>\n",
              "      <td>...</td>\n",
              "      <td>...</td>\n",
              "      <td>...</td>\n",
              "      <td>...</td>\n",
              "      <td>...</td>\n",
              "      <td>...</td>\n",
              "      <td>...</td>\n",
              "      <td>...</td>\n",
              "      <td>...</td>\n",
              "      <td>...</td>\n",
              "      <td>...</td>\n",
              "      <td>...</td>\n",
              "      <td>...</td>\n",
              "      <td>...</td>\n",
              "      <td>...</td>\n",
              "      <td>...</td>\n",
              "      <td>...</td>\n",
              "      <td>...</td>\n",
              "      <td>...</td>\n",
              "      <td>...</td>\n",
              "      <td>...</td>\n",
              "      <td>...</td>\n",
              "      <td>...</td>\n",
              "      <td>...</td>\n",
              "      <td>...</td>\n",
              "      <td>...</td>\n",
              "      <td>...</td>\n",
              "      <td>...</td>\n",
              "      <td>...</td>\n",
              "      <td>...</td>\n",
              "      <td>...</td>\n",
              "      <td>...</td>\n",
              "      <td>...</td>\n",
              "      <td>...</td>\n",
              "      <td>...</td>\n",
              "      <td>...</td>\n",
              "      <td>...</td>\n",
              "      <td>...</td>\n",
              "      <td>...</td>\n",
              "      <td>...</td>\n",
              "      <td>...</td>\n",
              "      <td>...</td>\n",
              "      <td>...</td>\n",
              "      <td>...</td>\n",
              "      <td>...</td>\n",
              "      <td>...</td>\n",
              "      <td>...</td>\n",
              "      <td>...</td>\n",
              "      <td>...</td>\n",
              "      <td>...</td>\n",
              "      <td>...</td>\n",
              "      <td>...</td>\n",
              "      <td>...</td>\n",
              "      <td>...</td>\n",
              "      <td>...</td>\n",
              "      <td>...</td>\n",
              "      <td>...</td>\n",
              "      <td>...</td>\n",
              "      <td>...</td>\n",
              "      <td>...</td>\n",
              "      <td>...</td>\n",
              "      <td>...</td>\n",
              "      <td>...</td>\n",
              "      <td>...</td>\n",
              "      <td>...</td>\n",
              "      <td>...</td>\n",
              "      <td>...</td>\n",
              "      <td>...</td>\n",
              "    </tr>\n",
              "    <tr>\n",
              "      <th>939</th>\n",
              "      <td>NaN</td>\n",
              "      <td>NaN</td>\n",
              "      <td>NaN</td>\n",
              "      <td>NaN</td>\n",
              "      <td>NaN</td>\n",
              "      <td>NaN</td>\n",
              "      <td>NaN</td>\n",
              "      <td>NaN</td>\n",
              "      <td>5.0</td>\n",
              "      <td>NaN</td>\n",
              "      <td>NaN</td>\n",
              "      <td>NaN</td>\n",
              "      <td>NaN</td>\n",
              "      <td>NaN</td>\n",
              "      <td>5.0</td>\n",
              "      <td>NaN</td>\n",
              "      <td>NaN</td>\n",
              "      <td>NaN</td>\n",
              "      <td>NaN</td>\n",
              "      <td>NaN</td>\n",
              "      <td>NaN</td>\n",
              "      <td>NaN</td>\n",
              "      <td>NaN</td>\n",
              "      <td>NaN</td>\n",
              "      <td>NaN</td>\n",
              "      <td>NaN</td>\n",
              "      <td>NaN</td>\n",
              "      <td>NaN</td>\n",
              "      <td>NaN</td>\n",
              "      <td>NaN</td>\n",
              "      <td>NaN</td>\n",
              "      <td>NaN</td>\n",
              "      <td>NaN</td>\n",
              "      <td>NaN</td>\n",
              "      <td>NaN</td>\n",
              "      <td>NaN</td>\n",
              "      <td>NaN</td>\n",
              "      <td>NaN</td>\n",
              "      <td>NaN</td>\n",
              "      <td>NaN</td>\n",
              "      <td>...</td>\n",
              "      <td>NaN</td>\n",
              "      <td>NaN</td>\n",
              "      <td>NaN</td>\n",
              "      <td>NaN</td>\n",
              "      <td>NaN</td>\n",
              "      <td>NaN</td>\n",
              "      <td>NaN</td>\n",
              "      <td>NaN</td>\n",
              "      <td>NaN</td>\n",
              "      <td>NaN</td>\n",
              "      <td>NaN</td>\n",
              "      <td>NaN</td>\n",
              "      <td>NaN</td>\n",
              "      <td>NaN</td>\n",
              "      <td>NaN</td>\n",
              "      <td>NaN</td>\n",
              "      <td>NaN</td>\n",
              "      <td>NaN</td>\n",
              "      <td>NaN</td>\n",
              "      <td>NaN</td>\n",
              "      <td>NaN</td>\n",
              "      <td>NaN</td>\n",
              "      <td>NaN</td>\n",
              "      <td>NaN</td>\n",
              "      <td>NaN</td>\n",
              "      <td>NaN</td>\n",
              "      <td>NaN</td>\n",
              "      <td>NaN</td>\n",
              "      <td>NaN</td>\n",
              "      <td>NaN</td>\n",
              "      <td>NaN</td>\n",
              "      <td>NaN</td>\n",
              "      <td>NaN</td>\n",
              "      <td>NaN</td>\n",
              "      <td>NaN</td>\n",
              "      <td>NaN</td>\n",
              "      <td>NaN</td>\n",
              "      <td>NaN</td>\n",
              "      <td>NaN</td>\n",
              "      <td>NaN</td>\n",
              "    </tr>\n",
              "    <tr>\n",
              "      <th>940</th>\n",
              "      <td>NaN</td>\n",
              "      <td>NaN</td>\n",
              "      <td>NaN</td>\n",
              "      <td>2.0</td>\n",
              "      <td>NaN</td>\n",
              "      <td>NaN</td>\n",
              "      <td>4.0</td>\n",
              "      <td>5.0</td>\n",
              "      <td>3.0</td>\n",
              "      <td>NaN</td>\n",
              "      <td>NaN</td>\n",
              "      <td>4.0</td>\n",
              "      <td>NaN</td>\n",
              "      <td>3.0</td>\n",
              "      <td>NaN</td>\n",
              "      <td>NaN</td>\n",
              "      <td>NaN</td>\n",
              "      <td>NaN</td>\n",
              "      <td>NaN</td>\n",
              "      <td>NaN</td>\n",
              "      <td>NaN</td>\n",
              "      <td>NaN</td>\n",
              "      <td>NaN</td>\n",
              "      <td>NaN</td>\n",
              "      <td>NaN</td>\n",
              "      <td>NaN</td>\n",
              "      <td>NaN</td>\n",
              "      <td>NaN</td>\n",
              "      <td>NaN</td>\n",
              "      <td>NaN</td>\n",
              "      <td>NaN</td>\n",
              "      <td>NaN</td>\n",
              "      <td>NaN</td>\n",
              "      <td>NaN</td>\n",
              "      <td>NaN</td>\n",
              "      <td>NaN</td>\n",
              "      <td>NaN</td>\n",
              "      <td>NaN</td>\n",
              "      <td>NaN</td>\n",
              "      <td>NaN</td>\n",
              "      <td>...</td>\n",
              "      <td>NaN</td>\n",
              "      <td>NaN</td>\n",
              "      <td>NaN</td>\n",
              "      <td>NaN</td>\n",
              "      <td>NaN</td>\n",
              "      <td>NaN</td>\n",
              "      <td>NaN</td>\n",
              "      <td>NaN</td>\n",
              "      <td>NaN</td>\n",
              "      <td>NaN</td>\n",
              "      <td>NaN</td>\n",
              "      <td>NaN</td>\n",
              "      <td>NaN</td>\n",
              "      <td>NaN</td>\n",
              "      <td>NaN</td>\n",
              "      <td>NaN</td>\n",
              "      <td>NaN</td>\n",
              "      <td>NaN</td>\n",
              "      <td>NaN</td>\n",
              "      <td>NaN</td>\n",
              "      <td>NaN</td>\n",
              "      <td>NaN</td>\n",
              "      <td>NaN</td>\n",
              "      <td>NaN</td>\n",
              "      <td>NaN</td>\n",
              "      <td>NaN</td>\n",
              "      <td>NaN</td>\n",
              "      <td>NaN</td>\n",
              "      <td>NaN</td>\n",
              "      <td>NaN</td>\n",
              "      <td>NaN</td>\n",
              "      <td>NaN</td>\n",
              "      <td>NaN</td>\n",
              "      <td>NaN</td>\n",
              "      <td>NaN</td>\n",
              "      <td>NaN</td>\n",
              "      <td>NaN</td>\n",
              "      <td>NaN</td>\n",
              "      <td>NaN</td>\n",
              "      <td>NaN</td>\n",
              "    </tr>\n",
              "    <tr>\n",
              "      <th>941</th>\n",
              "      <td>5.0</td>\n",
              "      <td>NaN</td>\n",
              "      <td>NaN</td>\n",
              "      <td>NaN</td>\n",
              "      <td>NaN</td>\n",
              "      <td>NaN</td>\n",
              "      <td>4.0</td>\n",
              "      <td>NaN</td>\n",
              "      <td>NaN</td>\n",
              "      <td>NaN</td>\n",
              "      <td>NaN</td>\n",
              "      <td>NaN</td>\n",
              "      <td>NaN</td>\n",
              "      <td>NaN</td>\n",
              "      <td>4.0</td>\n",
              "      <td>NaN</td>\n",
              "      <td>NaN</td>\n",
              "      <td>NaN</td>\n",
              "      <td>NaN</td>\n",
              "      <td>NaN</td>\n",
              "      <td>NaN</td>\n",
              "      <td>NaN</td>\n",
              "      <td>NaN</td>\n",
              "      <td>NaN</td>\n",
              "      <td>NaN</td>\n",
              "      <td>NaN</td>\n",
              "      <td>NaN</td>\n",
              "      <td>NaN</td>\n",
              "      <td>NaN</td>\n",
              "      <td>NaN</td>\n",
              "      <td>NaN</td>\n",
              "      <td>NaN</td>\n",
              "      <td>NaN</td>\n",
              "      <td>NaN</td>\n",
              "      <td>NaN</td>\n",
              "      <td>NaN</td>\n",
              "      <td>NaN</td>\n",
              "      <td>NaN</td>\n",
              "      <td>NaN</td>\n",
              "      <td>NaN</td>\n",
              "      <td>...</td>\n",
              "      <td>NaN</td>\n",
              "      <td>NaN</td>\n",
              "      <td>NaN</td>\n",
              "      <td>NaN</td>\n",
              "      <td>NaN</td>\n",
              "      <td>NaN</td>\n",
              "      <td>NaN</td>\n",
              "      <td>NaN</td>\n",
              "      <td>NaN</td>\n",
              "      <td>NaN</td>\n",
              "      <td>NaN</td>\n",
              "      <td>NaN</td>\n",
              "      <td>NaN</td>\n",
              "      <td>NaN</td>\n",
              "      <td>NaN</td>\n",
              "      <td>NaN</td>\n",
              "      <td>NaN</td>\n",
              "      <td>NaN</td>\n",
              "      <td>NaN</td>\n",
              "      <td>NaN</td>\n",
              "      <td>NaN</td>\n",
              "      <td>NaN</td>\n",
              "      <td>NaN</td>\n",
              "      <td>NaN</td>\n",
              "      <td>NaN</td>\n",
              "      <td>NaN</td>\n",
              "      <td>NaN</td>\n",
              "      <td>NaN</td>\n",
              "      <td>NaN</td>\n",
              "      <td>NaN</td>\n",
              "      <td>NaN</td>\n",
              "      <td>NaN</td>\n",
              "      <td>NaN</td>\n",
              "      <td>NaN</td>\n",
              "      <td>NaN</td>\n",
              "      <td>NaN</td>\n",
              "      <td>NaN</td>\n",
              "      <td>NaN</td>\n",
              "      <td>NaN</td>\n",
              "      <td>NaN</td>\n",
              "    </tr>\n",
              "    <tr>\n",
              "      <th>942</th>\n",
              "      <td>NaN</td>\n",
              "      <td>NaN</td>\n",
              "      <td>NaN</td>\n",
              "      <td>NaN</td>\n",
              "      <td>NaN</td>\n",
              "      <td>NaN</td>\n",
              "      <td>NaN</td>\n",
              "      <td>NaN</td>\n",
              "      <td>NaN</td>\n",
              "      <td>NaN</td>\n",
              "      <td>NaN</td>\n",
              "      <td>NaN</td>\n",
              "      <td>NaN</td>\n",
              "      <td>NaN</td>\n",
              "      <td>NaN</td>\n",
              "      <td>NaN</td>\n",
              "      <td>NaN</td>\n",
              "      <td>NaN</td>\n",
              "      <td>NaN</td>\n",
              "      <td>NaN</td>\n",
              "      <td>NaN</td>\n",
              "      <td>NaN</td>\n",
              "      <td>NaN</td>\n",
              "      <td>NaN</td>\n",
              "      <td>NaN</td>\n",
              "      <td>NaN</td>\n",
              "      <td>NaN</td>\n",
              "      <td>NaN</td>\n",
              "      <td>NaN</td>\n",
              "      <td>NaN</td>\n",
              "      <td>5.0</td>\n",
              "      <td>NaN</td>\n",
              "      <td>NaN</td>\n",
              "      <td>NaN</td>\n",
              "      <td>NaN</td>\n",
              "      <td>NaN</td>\n",
              "      <td>NaN</td>\n",
              "      <td>NaN</td>\n",
              "      <td>NaN</td>\n",
              "      <td>NaN</td>\n",
              "      <td>...</td>\n",
              "      <td>NaN</td>\n",
              "      <td>NaN</td>\n",
              "      <td>NaN</td>\n",
              "      <td>NaN</td>\n",
              "      <td>NaN</td>\n",
              "      <td>NaN</td>\n",
              "      <td>NaN</td>\n",
              "      <td>NaN</td>\n",
              "      <td>NaN</td>\n",
              "      <td>NaN</td>\n",
              "      <td>NaN</td>\n",
              "      <td>NaN</td>\n",
              "      <td>NaN</td>\n",
              "      <td>NaN</td>\n",
              "      <td>NaN</td>\n",
              "      <td>NaN</td>\n",
              "      <td>NaN</td>\n",
              "      <td>NaN</td>\n",
              "      <td>NaN</td>\n",
              "      <td>NaN</td>\n",
              "      <td>NaN</td>\n",
              "      <td>NaN</td>\n",
              "      <td>NaN</td>\n",
              "      <td>NaN</td>\n",
              "      <td>NaN</td>\n",
              "      <td>NaN</td>\n",
              "      <td>NaN</td>\n",
              "      <td>NaN</td>\n",
              "      <td>NaN</td>\n",
              "      <td>NaN</td>\n",
              "      <td>NaN</td>\n",
              "      <td>NaN</td>\n",
              "      <td>NaN</td>\n",
              "      <td>NaN</td>\n",
              "      <td>NaN</td>\n",
              "      <td>NaN</td>\n",
              "      <td>NaN</td>\n",
              "      <td>NaN</td>\n",
              "      <td>NaN</td>\n",
              "      <td>NaN</td>\n",
              "    </tr>\n",
              "    <tr>\n",
              "      <th>943</th>\n",
              "      <td>NaN</td>\n",
              "      <td>5.0</td>\n",
              "      <td>NaN</td>\n",
              "      <td>NaN</td>\n",
              "      <td>NaN</td>\n",
              "      <td>NaN</td>\n",
              "      <td>NaN</td>\n",
              "      <td>NaN</td>\n",
              "      <td>3.0</td>\n",
              "      <td>NaN</td>\n",
              "      <td>4.0</td>\n",
              "      <td>5.0</td>\n",
              "      <td>NaN</td>\n",
              "      <td>NaN</td>\n",
              "      <td>NaN</td>\n",
              "      <td>NaN</td>\n",
              "      <td>NaN</td>\n",
              "      <td>NaN</td>\n",
              "      <td>NaN</td>\n",
              "      <td>NaN</td>\n",
              "      <td>NaN</td>\n",
              "      <td>4.0</td>\n",
              "      <td>4.0</td>\n",
              "      <td>4.0</td>\n",
              "      <td>NaN</td>\n",
              "      <td>NaN</td>\n",
              "      <td>4.0</td>\n",
              "      <td>4.0</td>\n",
              "      <td>NaN</td>\n",
              "      <td>NaN</td>\n",
              "      <td>4.0</td>\n",
              "      <td>NaN</td>\n",
              "      <td>NaN</td>\n",
              "      <td>NaN</td>\n",
              "      <td>NaN</td>\n",
              "      <td>NaN</td>\n",
              "      <td>NaN</td>\n",
              "      <td>3.0</td>\n",
              "      <td>NaN</td>\n",
              "      <td>NaN</td>\n",
              "      <td>...</td>\n",
              "      <td>NaN</td>\n",
              "      <td>NaN</td>\n",
              "      <td>NaN</td>\n",
              "      <td>NaN</td>\n",
              "      <td>NaN</td>\n",
              "      <td>NaN</td>\n",
              "      <td>NaN</td>\n",
              "      <td>NaN</td>\n",
              "      <td>NaN</td>\n",
              "      <td>NaN</td>\n",
              "      <td>NaN</td>\n",
              "      <td>NaN</td>\n",
              "      <td>NaN</td>\n",
              "      <td>NaN</td>\n",
              "      <td>NaN</td>\n",
              "      <td>NaN</td>\n",
              "      <td>NaN</td>\n",
              "      <td>NaN</td>\n",
              "      <td>NaN</td>\n",
              "      <td>NaN</td>\n",
              "      <td>NaN</td>\n",
              "      <td>NaN</td>\n",
              "      <td>NaN</td>\n",
              "      <td>NaN</td>\n",
              "      <td>NaN</td>\n",
              "      <td>NaN</td>\n",
              "      <td>NaN</td>\n",
              "      <td>NaN</td>\n",
              "      <td>NaN</td>\n",
              "      <td>NaN</td>\n",
              "      <td>NaN</td>\n",
              "      <td>NaN</td>\n",
              "      <td>NaN</td>\n",
              "      <td>NaN</td>\n",
              "      <td>NaN</td>\n",
              "      <td>NaN</td>\n",
              "      <td>NaN</td>\n",
              "      <td>NaN</td>\n",
              "      <td>NaN</td>\n",
              "      <td>NaN</td>\n",
              "    </tr>\n",
              "  </tbody>\n",
              "</table>\n",
              "<p>943 rows × 1682 columns</p>\n",
              "</div>"
            ],
            "text/plain": [
              "itemid  1     2     3     4     5     6     ...  1677  1678  1679  1680  1681  1682\n",
              "userid                                      ...                                    \n",
              "1        5.0   3.0   4.0   3.0   3.0   5.0  ...   NaN   NaN   NaN   NaN   NaN   NaN\n",
              "2        4.0   NaN   NaN   NaN   NaN   NaN  ...   NaN   NaN   NaN   NaN   NaN   NaN\n",
              "3        NaN   NaN   NaN   NaN   NaN   NaN  ...   NaN   NaN   NaN   NaN   NaN   NaN\n",
              "4        NaN   NaN   NaN   NaN   NaN   NaN  ...   NaN   NaN   NaN   NaN   NaN   NaN\n",
              "5        4.0   3.0   NaN   NaN   NaN   NaN  ...   NaN   NaN   NaN   NaN   NaN   NaN\n",
              "...      ...   ...   ...   ...   ...   ...  ...   ...   ...   ...   ...   ...   ...\n",
              "939      NaN   NaN   NaN   NaN   NaN   NaN  ...   NaN   NaN   NaN   NaN   NaN   NaN\n",
              "940      NaN   NaN   NaN   2.0   NaN   NaN  ...   NaN   NaN   NaN   NaN   NaN   NaN\n",
              "941      5.0   NaN   NaN   NaN   NaN   NaN  ...   NaN   NaN   NaN   NaN   NaN   NaN\n",
              "942      NaN   NaN   NaN   NaN   NaN   NaN  ...   NaN   NaN   NaN   NaN   NaN   NaN\n",
              "943      NaN   5.0   NaN   NaN   NaN   NaN  ...   NaN   NaN   NaN   NaN   NaN   NaN\n",
              "\n",
              "[943 rows x 1682 columns]"
            ]
          },
          "metadata": {
            "tags": []
          },
          "execution_count": 12
        }
      ]
    },
    {
      "cell_type": "code",
      "metadata": {
        "id": "OIskNcict-qV"
      },
      "source": [
        "dense_data = dense_data.values"
      ],
      "execution_count": null,
      "outputs": []
    },
    {
      "cell_type": "markdown",
      "metadata": {
        "id": "YqhJBgf_yQ2y"
      },
      "source": [
        "## Probabilistic matrix factorization"
      ]
    },
    {
      "cell_type": "markdown",
      "metadata": {
        "id": "qjIRmrKDyV03"
      },
      "source": [
        "Предположим, что элементы матриц $V$, $U$ имеют нормальное распределение с нулевым средним и *фиксированной* дисперсией, которую мы оценим как средний разброс по строкам и столбцам (возможно, не соответственно😂).\r\n",
        "\r\n",
        "Затем получим оценку $R^*=\\mathcal{N}(UV^T, \\alpha)$, где $\\alpha$ - также фиксирванный параметр (гиперпараметр), который отображает степень нашей неопределенности относительно оценки $R^*$.\r\n",
        "\r\n",
        "Больше конкретики и формул в исходной статье :)\r\n"
      ]
    },
    {
      "cell_type": "code",
      "metadata": {
        "id": "f0rtkPVjyWSe"
      },
      "source": [
        "import logging\r\n",
        "import time\r\n",
        "import scipy as sp  # пригодилось вообще ?)\r\n",
        "import theano"
      ],
      "execution_count": null,
      "outputs": []
    },
    {
      "cell_type": "code",
      "metadata": {
        "id": "ZYdFEd6p3EdY"
      },
      "source": [
        "# забиваем на наличие промежуточных test values\r\n",
        "theano.config.compute_test_value = \"ignore\"\r\n",
        "\r\n",
        "# Set up logging. ШТА ?\r\n",
        "logger = logging.getLogger()\r\n",
        "logger.setLevel(logging.INFO)"
      ],
      "execution_count": null,
      "outputs": []
    },
    {
      "cell_type": "code",
      "metadata": {
        "id": "AZIilABX3P-6"
      },
      "source": [
        "class PMF:\r\n",
        "    \"\"\"Probabilistic matrix factorization model using PyMC3.\"\"\"\r\n",
        "\r\n",
        "    def __init__(self, train, dim, alpha=2, std=0.01, bounds=(1, 5)):\r\n",
        "        \"\"\"Build the Probabilistic Matrix Factorization model using pymc3.\r\n",
        "\r\n",
        "        :param np.ndarray train: The training data to use for learning the model.\r\n",
        "        :param int dim: Dimensionality of the model; number of latent factors.\r\n",
        "        :param int alpha: Fixed precision for the likelihood function.\r\n",
        "        :param float std: Amount of noise to use for model initialization.\r\n",
        "        :param (tuple of int) bounds: (lower, upper) bound of ratings.\r\n",
        "            These bounds will simply be used to cap the estimates produced for R.\r\n",
        "\r\n",
        "        \"\"\"\r\n",
        "\r\n",
        "        self.dim = dim\r\n",
        "        self.alpha = alpha\r\n",
        "        self.std = np.sqrt(1 / alpha)\r\n",
        "        self.bounds = bounds\r\n",
        "        self.data = train.copy()\r\n",
        "        n, m = self.data.shape\r\n",
        "\r\n",
        "        # забиваем пропуски средним значением по всем не пустым ячейкам\r\n",
        "        nan_mask = np.isnan(self.data)\r\n",
        "        self.data[nan_mask] = self.data[~nan_mask].mean()\r\n",
        "\r\n",
        "        # priors для alpha_u, alpha_v построим на основе\r\n",
        "        # средней дисперсии по строкам-столбцам матрицы\r\n",
        "        self.alpha_u = 1 / self.data.var(1).mean()\r\n",
        "        self.alpha_v = 1 / self.data.var(0).mean()\r\n",
        "\r\n",
        "        # определяем модель\r\n",
        "        # интересно, что параметры U, V фиксированы (т.е. не имеют распределений)\r\n",
        "        with pm.Model() as pmf:\r\n",
        "            U = pm.MvNormal(\r\n",
        "                'U',\r\n",
        "                mu=0,\r\n",
        "                tau=self.alpha_u * np.eye(dim),\r\n",
        "                shape=(n, dim),\r\n",
        "                testval=np.random.randn(n, dim) * std\r\n",
        "            )\r\n",
        "            V = pm.MvNormal(\r\n",
        "                'V',\r\n",
        "                mu=0,\r\n",
        "                tau=self.alpha_v * np.eye(dim),\r\n",
        "                shape=(m, dim),\r\n",
        "                testval=np.random.randn(m, dim) * std\r\n",
        "            )\r\n",
        "            R = pm.Normal(\r\n",
        "                'R',\r\n",
        "                (U @ V.T)[~nan_mask],\r\n",
        "                tau=self.alpha,\r\n",
        "                observed=self.data[~nan_mask]\r\n",
        "            )\r\n",
        "\r\n",
        "        logging.info(\"done building the PMF model\")\r\n",
        "        self.model = pmf\r\n",
        "\r\n",
        "    def __str__(self):\r\n",
        "        return self.name"
      ],
      "execution_count": null,
      "outputs": []
    },
    {
      "cell_type": "markdown",
      "metadata": {
        "id": "vb_E7kLxBpmE"
      },
      "source": [
        "Будем использовать байесовскую модель двумя способами - просто предсказывать MAP, ну и по классике MCMC. Интересный факт:\r\n",
        "\r\n",
        "---\r\n",
        "*When the observation noise variance $\\alpha$ and the prior variances $α_U$ and $α_V$ are all kept fixed, maximizing the log posterior is equivalent to minimizing the sum-of-squared-errors objective function with quadratic regularization terms.*\r\n",
        "\r\n",
        "---\r\n",
        "\r\n",
        "Короче просто ridge! (что особенно очевидно по формуле в статье)"
      ]
    },
    {
      "cell_type": "code",
      "metadata": {
        "id": "i9S164iy_kOi"
      },
      "source": [
        "def _find_map(self):\r\n",
        "    \"\"\"Find mode of posterior using L-BFGS-B optimization.\"\"\"\r\n",
        "    t_start = time.time()\r\n",
        "    with self.model:\r\n",
        "        logging.info(\"finding PMF MAP using L-BFGS-B optimization...\")\r\n",
        "        self._map = pm.find_MAP(method='L-BFGS-B')\r\n",
        "\r\n",
        "    elapsed = int(time.time() - t_start)\r\n",
        "    logging.info(f\"found PMF MAP in {elapsed} seconds\")\r\n",
        "    return self._map\r\n",
        "\r\n",
        "\r\n",
        "def _map(self):\r\n",
        "    try:\r\n",
        "        return self._map\r\n",
        "    except:\r\n",
        "        return self.find_map()\r\n",
        "\r\n",
        "\r\n",
        "# прокачиваем класс PMF\r\n",
        "PMF.find_map = _find_map\r\n",
        "PMF.map = property(_map)  # загадка на будущее, но вызывается как атрибут, а не метод"
      ],
      "execution_count": null,
      "outputs": []
    },
    {
      "cell_type": "markdown",
      "metadata": {
        "id": "LNeUGkRGEOS8"
      },
      "source": [
        "---\r\n",
        "*So now our PMF class has a map property which will either be found using Powell optimization or loaded from a previous optimization.*\r\n",
        "\r\n",
        "---\r\n",
        "\r\n",
        "Далее функция для запуска MCMC:"
      ]
    },
    {
      "cell_type": "code",
      "metadata": {
        "id": "zsA7yOwXDv4X"
      },
      "source": [
        "def _draw_samples(self, **kwargs):\r\n",
        "    # если ключа 'chains' нет, он добавляется со значением 1\r\n",
        "    # иначе ничего не меняется\r\n",
        "    kwargs.setdefault('chains', 1)\r\n",
        "    # интересный смысл одной цепочки: решение может быть не единственное\r\n",
        "    # в лучшем случае - симметричное, в худшем - единственное с точностью до поворота \r\n",
        "    with self.model:\r\n",
        "        self.trace = pm.sample(**kwargs)\r\n",
        "\r\n",
        "\r\n",
        "PMF.draw_samples = _draw_samples"
      ],
      "execution_count": null,
      "outputs": []
    },
    {
      "cell_type": "markdown",
      "metadata": {
        "id": "3HKwXX62Ftgz"
      },
      "source": [
        "Наконец, функция для предсказаний. Для данных $U, V$ (из апостериорной выборки) вычисляем $R^*=UV^T$, которую используем для извлечения нормальной выборки в качестве среднего (precision $\\alpha^2$ - мы задали в начале модели).\r\n",
        "\r\n",
        "Теперь уже можно понять, почему это мера определенности 👍"
      ]
    },
    {
      "cell_type": "code",
      "metadata": {
        "id": "myCfcR-uFs_f"
      },
      "source": [
        "# будем использовать как для MAP, так и для сэмплов MCMC\r\n",
        "def _predict(self, U, V):\r\n",
        "    \"\"\"Estimate R from the given values of U and V.\"\"\"\r\n",
        "    R = np.dot(U, V.T)\r\n",
        "    n, m = R.shape\r\n",
        "    sample_R = np.random.normal(R, self.std)\r\n",
        "    # поправка на ограниченность значений рейтингов\r\n",
        "    low, high = self.bounds\r\n",
        "    sample_R[sample_R < low] = low\r\n",
        "    sample_R[sample_R > high] = high\r\n",
        "    return sample_R\r\n",
        "\r\n",
        "\r\n",
        "PMF.predict = _predict"
      ],
      "execution_count": null,
      "outputs": []
    },
    {
      "cell_type": "markdown",
      "metadata": {
        "id": "vvW--rpxmMRO"
      },
      "source": [
        "# Evaluation"
      ]
    },
    {
      "cell_type": "markdown",
      "metadata": {
        "id": "DBlfH8MyvUb6"
      },
      "source": [
        "## Metrics"
      ]
    },
    {
      "cell_type": "code",
      "metadata": {
        "id": "w2fXvONPl6bB"
      },
      "source": [
        "# рабочая метрика - RMSE\r\n",
        "# напишем ее самостоятельно для матриц с пропусками\r\n",
        "def rmse(test_data, predicted):\r\n",
        "    \"\"\" RMSE ignoring missing values in the test_data \"\"\"  # почему пропуски в тестовых данных ? Просто особенность?\r\n",
        "    # Идея в том, что матрица, на которой будем учиться, и так содержит дофига пропущенных значений\r\n",
        "    # И только имеющиеся заполненные мы будем разбивать на train и test\r\n",
        "    # У тестовой матрицы пропуски на местах пропусков в полной матрице + на местах трейна - их мы и не будем учитывать при подсчете RMSE\r\n",
        "\r\n",
        "    I = ~np.isnan(test_data)\r\n",
        "    N = I.sum()  # число непустых ячеек\r\n",
        "    sqerror = (test_data - predicted) ** 2\r\n",
        "    mse = sqerror[I].sum() / N\r\n",
        "    return np.sqrt(mse)"
      ],
      "execution_count": null,
      "outputs": []
    },
    {
      "cell_type": "code",
      "metadata": {
        "id": "nXztsLbBnzyz"
      },
      "source": [
        "# также придется ручками написать train-test split\r\n",
        "# я бы, наверное, написал бы по-другому, но сейчас\r\n",
        "# постараюсь влезть в голову другого человека\r\n",
        "def train_test_split(data, seed, persent_test=0.1):\r\n",
        "    \"\"\"\r\n",
        "    Split the data into train/test sets.\r\n",
        "    :param int percent_test: Percentage of data to use for testing. Default 10.\r\n",
        "    \"\"\"\r\n",
        "\r\n",
        "    n, m = data.shape\r\n",
        "    N = n * m  # cells in matrix\r\n",
        "\r\n",
        "\r\n",
        "    train = data.copy()\r\n",
        "    test = np.ones_like(data) * np.nan\r\n",
        "\r\n",
        "    # список пар индексов, где в матрице нет пропусков\r\n",
        "    tosample = np.where(~np.isnan(data))\r\n",
        "    idx_pairs = list(zip(tosample[0], tosample[1]))\r\n",
        "\r\n",
        "    test_size = int( len(idx_pairs) * persent_test )\r\n",
        "    train_size = len(idx_pairs) - test_size\r\n",
        "\r\n",
        "    indices = np.arange(len(idx_pairs))  # индексы пар индексов :)\r\n",
        "    rng = np.random.RandomState(seed)\r\n",
        "    sample = rng.choice(indices, size=test_size, replace=False)\r\n",
        "\r\n",
        "    # в тест улетят только отсутствующие в трейне наблюдения, а не вся матрица (\"внезапно\")\r\n",
        "    for idx in sample:\r\n",
        "        idx_pair = idx_pairs[idx]\r\n",
        "        test[idx_pair] = train[idx_pair]\r\n",
        "        train[idx_pair] = np.nan  # remove from train\r\n",
        "\r\n",
        "    # проверим, что все прошло окей\r\n",
        "    assert test_size == N - np.isnan(test).sum()\r\n",
        "    assert train_size == N - np.isnan(train).sum()\r\n",
        "\r\n",
        "    return train, test"
      ],
      "execution_count": null,
      "outputs": []
    },
    {
      "cell_type": "code",
      "metadata": {
        "id": "nL_YsB-Xozyh"
      },
      "source": [
        "train, test = train_test_split(dense_data, seed=89)"
      ],
      "execution_count": null,
      "outputs": []
    },
    {
      "cell_type": "markdown",
      "metadata": {
        "id": "xr3lpq49vWrF"
      },
      "source": [
        "## Results"
      ]
    },
    {
      "cell_type": "code",
      "metadata": {
        "colab": {
          "base_uri": "https://localhost:8080/"
        },
        "id": "QR-WZG8Ju-6I",
        "outputId": "967c8c1b-65c4-4ba4-b819-b625302f722c"
      },
      "source": [
        "baselines = {}\r\n",
        "for name in baseline_methods:\r\n",
        "    Method = baseline_methods[name]\r\n",
        "    method = Method(train)\r\n",
        "    baselines[name] = method.rmse(test)\r\n",
        "    print(f\"{method} RMSE:\\t{baselines[name]:.5f}\")"
      ],
      "execution_count": null,
      "outputs": [
        {
          "output_type": "stream",
          "text": [
            "Uniform Random Baseline RMSE:\t1.69910\n",
            "Global Mean Baseline RMSE:\t1.12093\n",
            "Mean Of Means Baseline RMSE:\t1.01094\n"
          ],
          "name": "stdout"
        }
      ]
    },
    {
      "cell_type": "markdown",
      "metadata": {
        "id": "X_Q4iKanx-rr"
      },
      "source": [
        "Как и ожидалось, забивать рандомом оказалось хуже всего, а минимальное включение мозгов для улучшения второго метода тоже заметно отразилось на качестве.\r\n",
        "\r\n",
        "Теперь попробуем PMF:"
      ]
    },
    {
      "cell_type": "code",
      "metadata": {
        "id": "PR_py-9Ox6RO",
        "colab": {
          "base_uri": "https://localhost:8080/"
        },
        "outputId": "5260f4e9-bc23-4dd9-bfb7-34b48b027ec6"
      },
      "source": [
        "alpha = 2  # => стандартное отклонение = 1 / 2\r\n",
        "\r\n",
        "# число ненаблюдаемых признаков: при перемножении U @ V.T получается\r\n",
        "# одинаковый результат вне зависимости от их числа. Поэтому их нужно выбрать как гиперпараметр\r\n",
        "# Большее число => модель лучше подстраивается под данные (что может быть как + так и -)\r\n",
        "# но в то же время возрастает и вычислительная сложность\r\n",
        "# В конечном итоге у нас будет D * (M + N) ненаблюдаемых ПЕРЕМЕННЫХ\r\n",
        "# то есть 10 * (943 + 1682) = 26250\r\n",
        "dim = 10\r\n",
        "\r\n",
        "pmf = PMF(train, dim=dim, alpha=alpha)"
      ],
      "execution_count": null,
      "outputs": [
        {
          "output_type": "stream",
          "text": [
            "INFO:root:done building the PMF model\n"
          ],
          "name": "stderr"
        }
      ]
    },
    {
      "cell_type": "markdown",
      "metadata": {
        "id": "o1jAHarvoQHh"
      },
      "source": [
        "## Предсказание при помощи MAP"
      ]
    },
    {
      "cell_type": "code",
      "metadata": {
        "colab": {
          "base_uri": "https://localhost:8080/",
          "height": 558
        },
        "id": "yOSW0F8kji0d",
        "outputId": "19b54134-9641-4df4-d1d1-da5badec3da3"
      },
      "source": [
        "# находим MAP\r\n",
        "pmf.find_map()"
      ],
      "execution_count": null,
      "outputs": [
        {
          "output_type": "stream",
          "text": [
            "INFO:root:finding PMF MAP using L-BFGS-B optimization...\n",
            "WARNING (theano.tensor.blas): We did not find a dynamic library in the library_dir of the library we use for blas. If you use ATLAS, make sure to compile it with dynamics library.\n",
            "WARNING:theano.tensor.blas:We did not find a dynamic library in the library_dir of the library we use for blas. If you use ATLAS, make sure to compile it with dynamics library.\n"
          ],
          "name": "stderr"
        },
        {
          "output_type": "display_data",
          "data": {
            "text/html": [
              "\n",
              "    <div>\n",
              "        <style>\n",
              "            /* Turns off some styling */\n",
              "            progress {\n",
              "                /* gets rid of default border in Firefox and Opera. */\n",
              "                border: none;\n",
              "                /* Needs to be in here for Safari polyfill so background images work as expected. */\n",
              "                background-size: auto;\n",
              "            }\n",
              "            .progress-bar-interrupted, .progress-bar-interrupted::-webkit-progress-bar {\n",
              "                background: #F44336;\n",
              "            }\n",
              "        </style>\n",
              "      <progress value='669' class='' max='669' style='width:300px; height:20px; vertical-align: middle;'></progress>\n",
              "      100.00% [669/669 01:09<00:00 logp = -1.5362e+05, ||grad|| = 1.4369]\n",
              "    </div>\n",
              "    "
            ],
            "text/plain": [
              "<IPython.core.display.HTML object>"
            ]
          },
          "metadata": {
            "tags": []
          }
        },
        {
          "output_type": "stream",
          "text": [
            "\n"
          ],
          "name": "stdout"
        },
        {
          "output_type": "stream",
          "text": [
            "INFO:root:found PMF MAP in 103 seconds\n"
          ],
          "name": "stderr"
        },
        {
          "output_type": "execute_result",
          "data": {
            "text/plain": [
              "{'U': array([[ 0.33182753,  0.83440181, -0.85978278, ..., -0.5084577 ,\n",
              "          1.62390275, -0.40701529],\n",
              "        [ 0.40519036,  0.67674399, -0.57511045, ...,  0.00909095,\n",
              "          1.52506662, -0.46855797],\n",
              "        [-0.08696554, -0.3221846 , -0.93956066, ..., -0.41797947,\n",
              "          1.11162343, -0.34018735],\n",
              "        ...,\n",
              "        [ 0.36099909,  0.57652604, -1.04132573, ..., -0.11570079,\n",
              "          1.38649567, -0.16247258],\n",
              "        [ 0.66679185,  0.2550013 , -0.42220821, ..., -0.49762689,\n",
              "          1.97707003, -0.4386571 ],\n",
              "        [-0.85973519,  0.0549302 , -1.34784279, ...,  0.07146403,\n",
              "          1.52580335, -0.37187068]]),\n",
              " 'V': array([[ 0.12351352,  1.00417911, -1.10844565, ..., -0.27509412,\n",
              "          1.59138661,  0.29567477],\n",
              "        [ 0.19964004,  0.51133844, -0.67414518, ..., -0.45875517,\n",
              "          1.28992055,  0.02397768],\n",
              "        [ 0.11241274, -0.4161822 , -0.95319969, ..., -0.85317722,\n",
              "          0.88990176, -0.9084898 ],\n",
              "        ...,\n",
              "        [ 0.03144193,  0.07928897, -0.23315533, ..., -0.13254669,\n",
              "          0.09338825, -0.00589358],\n",
              "        [ 0.01322881,  0.06076226, -0.17946381, ...,  0.02565292,\n",
              "          0.48593038,  0.07410127],\n",
              "        [ 0.10482204,  0.03313964, -0.20977201, ...,  0.00500858,\n",
              "          0.40322027, -0.12199965]])}"
            ]
          },
          "metadata": {
            "tags": []
          },
          "execution_count": 25
        }
      ]
    },
    {
      "cell_type": "markdown",
      "metadata": {
        "id": "G0liQPYNmMVK"
      },
      "source": [
        "Протестируем теперь полученную оценку, не переобучилось ли и все такое:"
      ]
    },
    {
      "cell_type": "code",
      "metadata": {
        "colab": {
          "base_uri": "https://localhost:8080/"
        },
        "id": "YyZSUPxDoCt-",
        "outputId": "379f6610-45a4-4e84-a6cd-0de77555c1cf"
      },
      "source": [
        "pmf.map"
      ],
      "execution_count": null,
      "outputs": [
        {
          "output_type": "execute_result",
          "data": {
            "text/plain": [
              "{'U': array([[ 0.44900543,  0.89395658,  1.06506778, ...,  0.27569794,\n",
              "         -1.26188257,  0.35146509],\n",
              "        [ 0.57666192,  0.1652932 ,  0.84652939, ..., -0.64412121,\n",
              "         -1.10110157,  0.43507885],\n",
              "        [ 0.49641749, -0.33500329,  0.34324913, ...,  0.51333163,\n",
              "         -1.28449688,  0.29869585],\n",
              "        ...,\n",
              "        [ 0.47123662,  0.22699928,  0.58274902, ..., -0.34725686,\n",
              "         -1.25694337,  0.14214361],\n",
              "        [ 0.24374983, -0.37327587,  1.26290229, ..., -0.62113217,\n",
              "         -1.31203542,  0.55502417],\n",
              "        [ 0.49107511, -0.00448202,  1.01423457, ..., -0.98569123,\n",
              "         -1.62777626, -0.68612386]]),\n",
              " 'V': array([[ 0.91693155, -0.29510054,  0.90671628, ..., -0.22596341,\n",
              "         -1.02895637, -0.04699094],\n",
              "        [-0.04796623, -0.37887183,  1.11709987, ..., -0.323626  ,\n",
              "         -0.89809363,  0.0843151 ],\n",
              "        [ 0.30669697,  0.57656993,  0.27037986, ...,  0.24969578,\n",
              "         -1.33378805,  0.30561494],\n",
              "        ...,\n",
              "        [ 0.18773265,  0.12959138,  0.00580645, ..., -0.00884315,\n",
              "         -0.24879669, -0.01851566],\n",
              "        [ 0.13055801,  0.06939173,  0.3405983 , ..., -0.02913656,\n",
              "         -0.18648035, -0.17851817],\n",
              "        [ 0.15404719,  0.18717083,  0.17794405, ...,  0.06572805,\n",
              "         -0.40345117,  0.05351265]])}"
            ]
          },
          "metadata": {
            "tags": []
          },
          "execution_count": 22
        }
      ]
    },
    {
      "cell_type": "code",
      "metadata": {
        "id": "xMjPb1Jhlq5l"
      },
      "source": [
        "# функция, которую затем пришьем к классу\r\n",
        "def eval_map(pmf_model, train, test):\r\n",
        "    U = pmf_model.map['U']\r\n",
        "    V = pmf_model.map['V']\r\n",
        "\r\n",
        "    # предсказываем R целиком, а затем проверяем\r\n",
        "    # отдельно на трейновом и тестовом кусках \r\n",
        "    predictions = pmf_model.predict(U, V)\r\n",
        "    train_rmse = rmse(train, predictions)\r\n",
        "    test_rmse = rmse(test, predictions)\r\n",
        "\r\n",
        "    # print report\r\n",
        "    print(f'PMF MAP training rmse: {train_rmse:.5f}')\r\n",
        "    print(f'PMF MAP testing rmse: {test_rmse:.5f}')\r\n",
        "    print(f'Train/test difference: {test_rmse - train_rmse:.5f}')\r\n",
        "\r\n",
        "    return test_rmse\r\n",
        "\r\n",
        "PMF.eval_map = eval_map"
      ],
      "execution_count": null,
      "outputs": []
    },
    {
      "cell_type": "code",
      "metadata": {
        "colab": {
          "base_uri": "https://localhost:8080/"
        },
        "id": "jq88_mcoq3yv",
        "outputId": "9e0bd8d9-48de-4685-d7c8-1c0fed711498"
      },
      "source": [
        "pmf_map_rmse = pmf.eval_map(train, test)\r\n",
        "# improvement тут - на сколько упало\r\n",
        "print(f\"pmf map improvement: {(baselines['mom'] - pmf_map_rmse):.5f}\")"
      ],
      "execution_count": null,
      "outputs": [
        {
          "output_type": "stream",
          "text": [
            "PMF MAP training rmse: 1.01211\n",
            "PMF MAP testing rmse: 1.14660\n",
            "Train/test difference: 0.13449\n",
            "pmf map improvement: -0.13566\n"
          ],
          "name": "stdout"
        }
      ]
    },
    {
      "cell_type": "markdown",
      "metadata": {
        "id": "v8ps1Ov8sF-g"
      },
      "source": [
        "Внезапно, качество модели наоборот упало! \r\n",
        "\r\n",
        "---\r\n",
        "*This indicates that the point estimates for $α_U$ and $α_V$ that we calculated from our data are not doing a great job of controlling model complexity.*\r\n",
        "\r\n",
        "---\r\n",
        "\r\n",
        "Посмотрим, что с этим можно сделать, используя MCMC."
      ]
    },
    {
      "cell_type": "markdown",
      "metadata": {
        "id": "QBrGpD42oZIg"
      },
      "source": [
        "## Предсказание при помощи MCMC"
      ]
    },
    {
      "cell_type": "code",
      "metadata": {
        "colab": {
          "base_uri": "https://localhost:8080/",
          "height": 272
        },
        "id": "Sy6UVFYsr7xS",
        "outputId": "b31ea67c-8be5-435c-c090-3a99987689be"
      },
      "source": [
        "# spoiler alert: в конце окажется, что после 100 реализации rmse почти не падает\r\n",
        "# не spoiler alert - ето доооолго :)\r\n",
        "pmf.draw_samples(draws=100, tune=500, random_seed=89)"
      ],
      "execution_count": null,
      "outputs": [
        {
          "output_type": "stream",
          "text": [
            "Only 100 samples in chain.\n",
            "WARNING:pymc3:Only 100 samples in chain.\n",
            "Auto-assigning NUTS sampler...\n",
            "INFO:pymc3:Auto-assigning NUTS sampler...\n",
            "Initializing NUTS using jitter+adapt_diag...\n",
            "INFO:pymc3:Initializing NUTS using jitter+adapt_diag...\n",
            "Sequential sampling (1 chains in 1 job)\n",
            "INFO:pymc3:Sequential sampling (1 chains in 1 job)\n",
            "NUTS: [V, U]\n",
            "INFO:pymc3:NUTS: [V, U]\n"
          ],
          "name": "stderr"
        },
        {
          "output_type": "display_data",
          "data": {
            "text/html": [
              "\n",
              "    <div>\n",
              "        <style>\n",
              "            /* Turns off some styling */\n",
              "            progress {\n",
              "                /* gets rid of default border in Firefox and Opera. */\n",
              "                border: none;\n",
              "                /* Needs to be in here for Safari polyfill so background images work as expected. */\n",
              "                background-size: auto;\n",
              "            }\n",
              "            .progress-bar-interrupted, .progress-bar-interrupted::-webkit-progress-bar {\n",
              "                background: #F44336;\n",
              "            }\n",
              "        </style>\n",
              "      <progress value='600' class='' max='600' style='width:300px; height:20px; vertical-align: middle;'></progress>\n",
              "      100.00% [600/600 1:37:45<00:00 Sampling chain 0, 0 divergences]\n",
              "    </div>\n",
              "    "
            ],
            "text/plain": [
              "<IPython.core.display.HTML object>"
            ]
          },
          "metadata": {
            "tags": []
          }
        },
        {
          "output_type": "stream",
          "text": [
            "Sampling 1 chain for 500 tune and 100 draw iterations (500 + 100 draws total) took 5866 seconds.\n",
            "INFO:pymc3:Sampling 1 chain for 500 tune and 100 draw iterations (500 + 100 draws total) took 5866 seconds.\n",
            "Only one chain was sampled, this makes it impossible to run some convergence checks\n",
            "INFO:pymc3:Only one chain was sampled, this makes it impossible to run some convergence checks\n"
          ],
          "name": "stderr"
        }
      ]
    },
    {
      "cell_type": "code",
      "metadata": {
        "colab": {
          "base_uri": "https://localhost:8080/"
        },
        "id": "Mfg4G3gvIZ7F",
        "outputId": "79d8db67-74a8-4487-eaa6-5628ff0b09d7"
      },
      "source": [
        "from google.colab import drive\r\n",
        "drive.mount('/content/drive')"
      ],
      "execution_count": null,
      "outputs": [
        {
          "output_type": "stream",
          "text": [
            "Mounted at /content/drive\n"
          ],
          "name": "stdout"
        }
      ]
    },
    {
      "cell_type": "code",
      "metadata": {
        "id": "oWiF9pGuIyjv"
      },
      "source": [
        "# на случай внезапного падения сессии :)\r\n",
        "np.save('/content/drive/MyDrive/Colab/Bayesian methods/U.npy', pmf.trace['U'])\r\n",
        "np.save('/content/drive/MyDrive/Colab/Bayesian methods/V.npy', pmf.trace['V'])"
      ],
      "execution_count": null,
      "outputs": []
    },
    {
      "cell_type": "code",
      "metadata": {
        "id": "udkTf1oQv0XM"
      },
      "source": [
        "# костыль (элегантный костыль), изменяющий итерацию по словарю\r\n",
        "# чтобы не переписывать функции, заточенные под trace object из pymc3\r\n",
        "# класс настолько сырой, что даже не печатается - только самое необходимое :)\r\n",
        "class trace_dict(dict):\r\n",
        "    def __init__(self, dictionary):\r\n",
        "        self.dict = dictionary\r\n",
        "        self.keys = list(dictionary.keys())\r\n",
        "        self.n_samples = self.dict[self.keys[0]].shape[0] - 1\r\n",
        "        self.iter = 0\r\n",
        "\r\n",
        "\r\n",
        "    def __iter__(self):\r\n",
        "        return self\r\n",
        "\r\n",
        "\r\n",
        "    def __next__(self):\r\n",
        "        if self.iter == self.n_samples:\r\n",
        "            # без обнуления (ммм...) счетчика получалась полная дичь\r\n",
        "            self.iter = 0\r\n",
        "            raise StopIteration\r\n",
        "        else:\r\n",
        "            to_be_returned = {name: self.dict[name][self.iter] for name in self.keys}\r\n",
        "            self.iter += 1\r\n",
        "            return to_be_returned\r\n",
        "\r\n",
        "# заметка 07.02.21 - а тут не прокатит итерация с помощью dict.items? :)"
      ],
      "execution_count": null,
      "outputs": []
    },
    {
      "cell_type": "code",
      "metadata": {
        "id": "D2lNsKLkJD1F"
      },
      "source": [
        "# backup с диска\r\n",
        "U = np.load('/content/drive/MyDrive/Colab/Bayesian methods/U.npy')\r\n",
        "V = np.load('/content/drive/MyDrive/Colab/Bayesian methods/V.npy')\r\n",
        "pmf.trace = trace_dict({'U' : U, 'V' : V})\r\n",
        "del U, V"
      ],
      "execution_count": null,
      "outputs": []
    },
    {
      "cell_type": "markdown",
      "metadata": {
        "id": "SVK4mmiapIIz"
      },
      "source": [
        "### Diagnostics and posterior predictive check"
      ]
    },
    {
      "cell_type": "markdown",
      "metadata": {
        "id": "eMFrJpJ6pjTS"
      },
      "source": [
        "Обычно можно просто посмотреть traceplot и прикинуть, когда цепь начала сходиться, а предыдущие реализации выкинуть. Но в нашем случае реализации цепи - это матрицы.\r\n",
        "\r\n",
        "Будем смотреть на *норму Фробениуса* матрицы - корень из суммы квадратов ее элементов (аналогично Евклидовой норме)."
      ]
    },
    {
      "cell_type": "code",
      "metadata": {
        "id": "ziFenzbKpLhM"
      },
      "source": [
        "def _norms(pmf_model, monitor=('U', 'V'), ord='fro'):\r\n",
        "     \"\"\"Return norms of latent variables at each step \r\n",
        "     in the sample trace.\"\"\"\r\n",
        "     norms = {var: [] for var in monitor}\r\n",
        "     for sample in pmf_model.trace:\r\n",
        "         for var in monitor:\r\n",
        "             norms[var].append(np.linalg.norm(sample[var], ord)) \r\n",
        "     return norms\r\n",
        "\r\n",
        "\r\n",
        "def _traceplot(pmf_model):\r\n",
        "     \"\"\"Plot Frobenius norms of U and V as a function of sample #.\"\"\"\r\n",
        "     trace_norms = pmf_model.norms()\r\n",
        "     u_series = pd.Series(trace_norms['U'])\r\n",
        "     v_series = pd.Series(trace_norms['V'])\r\n",
        "     fig, [ax1, ax2] = plt.subplots(1, 2, figsize=(10, 4), dpi=120)\r\n",
        "     u_series.plot(kind='line', ax=ax1, color='C1',\r\n",
        "                   grid=False, title=r\"$\\|U\\|_{Fro}^2$ at Each Sample\")\r\n",
        "     v_series.plot(kind='line', ax=ax2, color='C2',\r\n",
        "                   grid=False, title=r\"$\\|V\\|_{Fro}^2$ at Each Sample\")\r\n",
        "     ax1.set(xlabel='sample number')\r\n",
        "     ax2.set(xlabel='sample number')\r\n",
        "\r\n",
        "\r\n",
        "PMF.norms = _norms\r\n",
        "PMF.traceplot = _traceplot"
      ],
      "execution_count": null,
      "outputs": []
    },
    {
      "cell_type": "code",
      "metadata": {
        "colab": {
          "base_uri": "https://localhost:8080/",
          "height": 493
        },
        "id": "232sz7rAseEs",
        "outputId": "96cb64fc-f110-4c0a-ae49-9e0660b00dbc"
      },
      "source": [
        "pmf.traceplot()"
      ],
      "execution_count": null,
      "outputs": [
        {
          "output_type": "display_data",
          "data": {
            "image/png": "[encoded data removed]",
            "text/plain": [
              "<Figure size 1200x480 with 2 Axes>"
            ]
          },
          "metadata": {
            "tags": [],
            "needs_background": "light"
          }
        }
      ]
    },
    {
      "cell_type": "markdown",
      "metadata": {
        "id": "Mqmu48LCsjKU"
      },
      "source": [
        "Видимо, норма сошлась уже после дефолтного тьюнинга (500 реализаций) - это легче видеть на картинке из статьи с 500 сэмплами после тьюнинга.\r\n",
        "\r\n",
        "Теперь посмотрим на RMSE в зависимости от номера шага алгоритма:"
      ]
    },
    {
      "cell_type": "code",
      "metadata": {
        "id": "8A9J2-I9solI"
      },
      "source": [
        "# теперь посмотрим на ошибку на каждом каждой выборке и по накопленному среднему\r\n",
        "def _running_rmse(pmf_model, test_data, train_data, burn_in=0, plot=True):\r\n",
        "    \"\"\"Calculate RMSE for each step of the trace to monitor convergence.\"\"\"\r\n",
        "    results = {'per-step-train' : [], 'running-train' : [],\r\n",
        "               'per-step-test' : [], 'running-test' : []}\r\n",
        "    R = np.zeros_like(test_data)\r\n",
        "\r\n",
        "    for j, sample in enumerate(pmf_model.trace):\r\n",
        "        sample_R = pmf_model.predict(sample['U'], sample['V'])\r\n",
        "        R += sample_R\r\n",
        "        # усредненная по всем предыдущим предсказаниям оценка R\r\n",
        "        running_R = R / (j + 1)\r\n",
        "        results['per-step-train'].append(rmse(train_data, sample_R))\r\n",
        "        results['running-train'].append(rmse(train_data, running_R))\r\n",
        "        results['per-step-test'].append(rmse(test_data, sample_R))\r\n",
        "        results['running-test'].append(rmse(test_data, running_R))\r\n",
        "\r\n",
        "    results = pd.DataFrame(results)\r\n",
        "\r\n",
        "    if plot:\r\n",
        "        results.plot(kind='line', grid=False, figsize=(15, 7),\r\n",
        "                     title=\"Per-step and Running RMSE From Posterior Predictive\")\r\n",
        "    \r\n",
        "    # итоговая оценка R и все промежуточные результаты\r\n",
        "    return running_R, results\r\n",
        "\r\n",
        "\r\n",
        "PMF.running_rmse = _running_rmse"
      ],
      "execution_count": null,
      "outputs": []
    },
    {
      "cell_type": "code",
      "metadata": {
        "colab": {
          "base_uri": "https://localhost:8080/",
          "height": 445
        },
        "id": "pZ4vcxR3-vVE",
        "outputId": "61347bdd-a4b0-4564-9357-230a16bbef2b"
      },
      "source": [
        "predicted, results = pmf.running_rmse(test, train)"
      ],
      "execution_count": null,
      "outputs": [
        {
          "output_type": "display_data",
          "data": {
            "image/png": "[encoded data removed]",
            "text/plain": [
              "<Figure size 1080x504 with 1 Axes>"
            ]
          },
          "metadata": {
            "tags": [],
            "needs_background": "light"
          }
        }
      ]
    },
    {
      "cell_type": "code",
      "metadata": {
        "colab": {
          "base_uri": "https://localhost:8080/"
        },
        "id": "9ezoKmRrlPRj",
        "outputId": "949b0c22-7810-4368-faa6-026eca0eab49"
      },
      "source": [
        "# final rmse\r\n",
        "final_test_rmse = results['running-test'].values[-1]\r\n",
        "final_train_rmse = results['running-train'].values[-1]\r\n",
        "print(f'Posterior predictive train RMSE: {final_train_rmse:.5f}')\r\n",
        "print(f'Posterior predictive test RMSE: {final_test_rmse:.5f}')\r\n",
        "print(f'Train/test difference: {final_test_rmse - final_train_rmse:.5f}')\r\n",
        "print(f'Improvement from MAP: {pmf_map_rmse - final_test_rmse:.5f}')\r\n",
        "print(f'Improvement from mean of means: {baselines[\"mom\"] - final_test_rmse:.5f}')"
      ],
      "execution_count": null,
      "outputs": [
        {
          "output_type": "stream",
          "text": [
            "Posterior predictive train RMSE: 0.78278\n",
            "Posterior predictive test RMSE: 0.91901\n",
            "Train/test difference: 0.13622\n",
            "Improvement from MAP: 0.22759\n",
            "Improvement from mean of means: 0.09193\n"
          ],
          "name": "stdout"
        }
      ]
    },
    {
      "cell_type": "markdown",
      "metadata": {
        "id": "BV9aAiuy-_ij"
      },
      "source": [
        "## Summary of results"
      ]
    },
    {
      "cell_type": "code",
      "metadata": {
        "id": "zJnfWD8U-1nO"
      },
      "source": [
        "all_results = {\r\n",
        "    'global means' : baselines['gm'],\r\n",
        "    'mean of means' : baselines['mom'],\r\n",
        "    'uniform random' : baselines['ur'],\r\n",
        "    'PMF MAP' : pmf_map_rmse,\r\n",
        "    'PMF MCMC' : final_test_rmse\r\n",
        "}\r\n",
        "\r\n",
        "all_results = pd.Series(all_results).sort_values()"
      ],
      "execution_count": null,
      "outputs": []
    },
    {
      "cell_type": "code",
      "metadata": {
        "colab": {
          "base_uri": "https://localhost:8080/",
          "height": 498
        },
        "id": "_RH5WPFP_h91",
        "outputId": "e5ac51db-30bd-4a99-c575-88ec2e9bced0"
      },
      "source": [
        "plt.figure(dpi=100, figsize=[10, 6])\r\n",
        "\r\n",
        "plt.bar(x=np.arange(5),\r\n",
        "        height=all_results,\r\n",
        "        width=0.4,\r\n",
        "        color=['C' + str(j) for j in range(5)],\r\n",
        "        ec='k')\r\n",
        "\r\n",
        "for j in range(5):\r\n",
        "    plt.text(j, all_results.iloc[j] + 0.05, all_results.index[j], ha='center')\r\n",
        "\r\n",
        "plt.ylim(0, 1.9)\r\n",
        "plt.xticks([]);"
      ],
      "execution_count": null,
      "outputs": [
        {
          "output_type": "display_data",
          "data": {
            "image/png": "[encoded data removed]",
            "text/plain": [
              "<Figure size 1000x600 with 1 Axes>"
            ]
          },
          "metadata": {
            "tags": [],
            "needs_background": "light"
          }
        }
      ]
    },
    {
      "cell_type": "markdown",
      "metadata": {
        "id": "RHB441cq_G1c"
      },
      "source": [
        "# Takeaway\r\n",
        "\r\n",
        "Модель: \r\n",
        "\r\n",
        " - моя первая модель со скрытыми переменными и разложением матриц :)\r\n",
        " - число скрытых переменных - гиперпараметр\r\n",
        " - норма Фробениуса - один из способов мониторить сходимость марковской цепи для матриц\r\n",
        " - предпоследняя картинка - чудо некоррелированных моделей\r\n",
        "\r\n",
        "Код:\r\n",
        " - получилось реализовать целый класс PMF с большим количеством методов (см. ниже)\r\n",
        " - некоторые методы вызывают другие внутри себя для удобства применения\r\n",
        " - костыль-класс для особой итерации по словарю\r\n",
        " - писать docstring - это полезно\r\n",
        " - впервые в боевой задаче применил pivot table из pandas\r\n",
        " - `dictionary.setdefault(key, value)` для словарей\r\n",
        " - `np.ma.masked_array`\r\n",
        " - метод `.plot()` для `pd.Series` и `pd.DataFrame` - юзабельная штука\r\n",
        " - logging (хотя и непонятно, почему нельзя просто печатать сообщения)"
      ]
    },
    {
      "cell_type": "code",
      "metadata": {
        "id": "ss2Zva_X_QDC",
        "colab": {
          "base_uri": "https://localhost:8080/"
        },
        "outputId": "0779f0fd-aa3a-4058-f4c5-ef2602b75491"
      },
      "source": [
        "dir(PMF)[-8:]"
      ],
      "execution_count": null,
      "outputs": [
        {
          "output_type": "execute_result",
          "data": {
            "text/plain": [
              "['draw_samples',\n",
              " 'eval_map',\n",
              " 'find_map',\n",
              " 'map',\n",
              " 'norms',\n",
              " 'predict',\n",
              " 'running_rmse',\n",
              " 'traceplot']"
            ]
          },
          "metadata": {
            "tags": []
          },
          "execution_count": 212
        }
      ]
    }
  ]
}